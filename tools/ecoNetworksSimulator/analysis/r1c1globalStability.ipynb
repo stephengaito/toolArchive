{
 "cells": [
  {
   "cell_type": "markdown",
   "metadata": {},
   "source": [
    "# R1C1 Ecosystems Model Global Stability\n",
    "\n",
    "In this notebook we explore the global stability of the one resource / one consumer (R1-C1) ecosystem model by looking at the structure of the isoclines."
   ]
  },
  {
   "cell_type": "code",
   "execution_count": 1,
   "metadata": {
    "collapsed": true
   },
   "outputs": [],
   "source": [
    "from sympy import *\n",
    "from sympy.plotting import plot\n",
    "init_printing()"
   ]
  },
  {
   "cell_type": "markdown",
   "metadata": {},
   "source": [
    "We start by defining the variables:"
   ]
  },
  {
   "cell_type": "code",
   "execution_count": 2,
   "metadata": {
    "collapsed": true
   },
   "outputs": [],
   "source": [
    "x = Symbol('x') # biomass of resouce species [biomassX]\n",
    "y = Symbol('y') # biomass of consumer species [biomassY]"
   ]
  },
  {
   "cell_type": "markdown",
   "metadata": {},
   "source": [
    "We now define the parameters:"
   ]
  },
  {
   "cell_type": "code",
   "execution_count": 3,
   "metadata": {
    "collapsed": true
   },
   "outputs": [],
   "source": [
    "r = Symbol('r') # growth rate [biomassX/(biomassX*second)]\n",
    "k = Symbol('k') # carrying capacity [biomassX]\n",
    "a = Symbol('a') # attack rate [biomassY/biomassX]\n",
    "d = Symbol('d') # death rate due to predation [biomassX/(biomassY*second)]\n",
    "e = Symbol('e') # conversion efficiency [biomassY/(biomassY*second)]\n",
    "h = Symbol('h') # half saturaion [biomassY]\n",
    "m = Symbol('m') # mortality [biomassY/(biomassY*second)]"
   ]
  },
  {
   "cell_type": "markdown",
   "metadata": {},
   "source": [
    "In the subsequent analyssi, it will be important that all of these parameters are assumed to be positive."
   ]
  },
  {
   "cell_type": "markdown",
   "metadata": {},
   "source": [
    "Now we define the r1-c1 equations:"
   ]
  },
  {
   "cell_type": "code",
   "execution_count": 4,
   "metadata": {
    "collapsed": false
   },
   "outputs": [
    {
     "data": {
      "image/png": "[encoded data removed]",
      "text/latex": [
       "$$\\left ( - \\frac{a d x y}{a x + h} + r x \\left(1 - \\frac{x}{k}\\right), \\quad \\frac{a e x y}{a x + h} - m y\\right )$$"
      ],
      "text/plain": [
       "⎛  a⋅d⋅x⋅y       ⎛    x⎞  a⋅e⋅x⋅y      ⎞\n",
       "⎜- ─────── + r⋅x⋅⎜1 - ─⎟, ─────── - m⋅y⎟\n",
       "⎝  a⋅x + h       ⎝    k⎠  a⋅x + h      ⎠"
      ]
     },
     "execution_count": 4,
     "metadata": {},
     "output_type": "execute_result"
    }
   ],
   "source": [
    "deltaX = r * x * (1 - (x / k)) - d * (a * y * x)/(h+a*x) # [biomassX/second]\n",
    "deltaY = (e * a * y * x)/(h+a*x) - m * y                 # [biomassY/second]\n",
    "deltaX, deltaY"
   ]
  },
  {
   "cell_type": "markdown",
   "metadata": {},
   "source": [
    "For both the resource and the consumer, the axes, $x = 0$ and $y = 0$, are isoclines. This means that the ecologicaly relevant first quadrant is globally stable; any ecology with initial conditions in the first quadrant (including the axes) will remain in the first quadrant (including the axes) for all future time."
   ]
  },
  {
   "cell_type": "markdown",
   "metadata": {},
   "source": [
    "Since the over all resources of the earth are finite, we know that the biomass of all species in an ecology will never get arbitrarily large. This means that, for any ecologically relevant model, the derivatives of the species biomass, $deltaX$ and $deltaY$, should be negative for very large, positive, values of both $x$ and $y$."
   ]
  },
  {
   "cell_type": "markdown",
   "metadata": {},
   "source": [
    "To show that the current r1-c1 model is not ecologically irrelevant, we begin by showing that for large $x$ and $y$ the $deltaX$ is eventually negative. To see this consider the term $-\\frac{adxy}{ax + h}$. Since all of the parameters as well as the biomasses are all positive, this term is *always* negative."
   ]
  },
  {
   "cell_type": "markdown",
   "metadata": {},
   "source": [
    "Now consider the second term, $rx\\left(1 - \\frac{x}{k}\\right)$ of $deltaX$. With $r$, $k$ and $x$ positive, this term will be negative whenever $k < x$. This means that for all positive values of $a$, $d$, $h$, $k$, and $y$, $deltaX$ will be negative, and hence the resource biomass will be declining, whenever $k < x$."
   ]
  },
  {
   "cell_type": "markdown",
   "metadata": {},
   "source": [
    "Now consider, $deltaY$, it will be negative whenever:"
   ]
  },
  {
   "cell_type": "code",
   "execution_count": 6,
   "metadata": {
    "collapsed": false
   },
   "outputs": [
    {
     "data": {
      "image/png": "[encoded data removed]",
      "text/latex": [
       "$$\\frac{a e x y}{a x + h} < m y$$"
      ],
      "text/plain": [
       "a⋅e⋅x⋅y      \n",
       "─────── < m⋅y\n",
       "a⋅x + h      "
      ]
     },
     "execution_count": 6,
     "metadata": {},
     "output_type": "execute_result"
    }
   ],
   "source": [
    "a*e*x*y/(a*x+h) < m*y"
   ]
  },
  {
   "cell_type": "code",
   "execution_count": 7,
   "metadata": {
    "collapsed": false
   },
   "outputs": [
    {
     "data": {
      "image/png": "[encoded data removed]",
      "text/latex": [
       "$$\\frac{a e x}{a x + h} < m$$"
      ],
      "text/plain": [
       " a⋅e⋅x     \n",
       "─────── < m\n",
       "a⋅x + h    "
      ]
     },
     "execution_count": 7,
     "metadata": {},
     "output_type": "execute_result"
    }
   ],
   "source": [
    "a*e*x/(a*x+h) < m"
   ]
  },
  {
   "cell_type": "code",
   "execution_count": 8,
   "metadata": {
    "collapsed": false
   },
   "outputs": [
    {
     "data": {
      "image/png": "[encoded data removed]",
      "text/latex": [
       "$$a e x < m \\left(a x + h\\right)$$"
      ],
      "text/plain": [
       "a⋅e⋅x < m⋅(a⋅x + h)"
      ]
     },
     "execution_count": 8,
     "metadata": {},
     "output_type": "execute_result"
    }
   ],
   "source": [
    "a*e*x < m*(a*x+h)"
   ]
  },
  {
   "cell_type": "markdown",
   "metadata": {
    "collapsed": true
   },
   "source": [
    "Since $a$, $h$ and $x$ are all positive, we know that $ax < ax+h$. This means that, *no matter how large but finite the resource biomass is*, so long as $e < m$, we know that $deltaY$ will be negative and hence the consumers will gradually decline away to extinction."
   ]
  },
  {
   "cell_type": "markdown",
   "metadata": {
    "collapsed": true
   },
   "source": [
    "Solving $deltaY < 0$ for $x$ we get, $x < \\frac{hm}{a(e-m)}$"
   ]
  },
  {
   "cell_type": "code",
   "execution_count": null,
   "metadata": {
    "collapsed": true
   },
   "outputs": [],
   "source": []
  }
 ],
 "metadata": {
  "kernelspec": {
   "display_name": "Python 3",
   "language": "python",
   "name": "python3"
  },
  "language_info": {
   "codemirror_mode": {
    "name": "ipython",
    "version": 3
   },
   "file_extension": ".py",
   "mimetype": "text/x-python",
   "name": "python",
   "nbconvert_exporter": "python",
   "pygments_lexer": "ipython3",
   "version": "3.4.3"
  }
 },
 "nbformat": 4,
 "nbformat_minor": 0
}
