{
 "cells": [
  {
   "cell_type": "markdown",
   "metadata": {},
   "source": [
    "# R1C1 Ecosystems Model Equilibria \n",
    "\n",
    "In this notebook we explore the equilibria of the one resource / one consumer (R1-C1) ecosystem model."
   ]
  },
  {
   "cell_type": "code",
   "execution_count": 1,
   "metadata": {
    "collapsed": true
   },
   "outputs": [],
   "source": [
    "from sympy import *\n",
    "init_printing()"
   ]
  },
  {
   "cell_type": "markdown",
   "metadata": {},
   "source": [
    "We start by defining the variables:"
   ]
  },
  {
   "cell_type": "code",
   "execution_count": 2,
   "metadata": {
    "collapsed": true
   },
   "outputs": [],
   "source": [
    "x = Symbol('x') # biomass of resouce species [biomassX]\n",
    "y = Symbol('y') # biomass of consumer species [biomassY]"
   ]
  },
  {
   "cell_type": "markdown",
   "metadata": {},
   "source": [
    "We now define the parameters:"
   ]
  },
  {
   "cell_type": "code",
   "execution_count": 3,
   "metadata": {
    "collapsed": true
   },
   "outputs": [],
   "source": [
    "r = Symbol('r') # growth rate [biomassX/(biomassX*second)]\n",
    "k = Symbol('k') # carrying capacity [biomassX]\n",
    "a = Symbol('a') # attack rate [biomassY/biomassX]\n",
    "d = Symbol('d') # death rate due to predation [biomassX/(biomassY*second)]\n",
    "e = Symbol('e') # conversion efficiency [biomassY/(biomassY*second)]\n",
    "h = Symbol('h') # half saturaion [biomassY]\n",
    "m = Symbol('m') # mortality [biomassY/(biomassY*second)]"
   ]
  },
  {
   "cell_type": "markdown",
   "metadata": {},
   "source": [
    "Finally, we define the r1-c1 equations:"
   ]
  },
  {
   "cell_type": "code",
   "execution_count": 4,
   "metadata": {
    "collapsed": false
   },
   "outputs": [
    {
     "data": {
      "image/png": "[encoded data removed]",
      "text/latex": [
       "$$\\left ( - \\frac{a d x y}{a x + h} + r x \\left(1 - \\frac{x}{k}\\right), \\quad \\frac{a e x y}{a x + h} - m y\\right )$$"
      ],
      "text/plain": [
       "⎛  a⋅d⋅x⋅y       ⎛    x⎞  a⋅e⋅x⋅y      ⎞\n",
       "⎜- ─────── + r⋅x⋅⎜1 - ─⎟, ─────── - m⋅y⎟\n",
       "⎝  a⋅x + h       ⎝    k⎠  a⋅x + h      ⎠"
      ]
     },
     "execution_count": 4,
     "metadata": {},
     "output_type": "execute_result"
    }
   ],
   "source": [
    "deltaX = r * x * (1 - (x / k)) - d * (a * y * x)/(h+a*x) # [biomassX/second]\n",
    "deltaY = (e * a * y * x)/(h+a*x) - m * y                 # [biomassY/second]\n",
    "deltaX, deltaY"
   ]
  },
  {
   "cell_type": "markdown",
   "metadata": {},
   "source": [
    "Solving these equations for the equilibria we get:"
   ]
  },
  {
   "cell_type": "code",
   "execution_count": 5,
   "metadata": {
    "collapsed": false
   },
   "outputs": [
    {
     "data": {
      "image/png": "[encoded data removed]",
      "text/latex": [
       "$$\\left [ \\left ( 0, \\quad 0\\right ), \\quad \\left ( k, \\quad 0\\right ), \\quad \\left ( \\frac{h m}{a \\left(e - m\\right)}, \\quad - \\frac{e h r}{a^{2} d k \\left(e - m\\right)^{2}} \\left(- a e k + a k m + h m\\right)\\right )\\right ]$$"
      ],
      "text/plain": [
       "⎡                ⎛   h⋅m     -e⋅h⋅r⋅(-a⋅e⋅k + a⋅k⋅m + h⋅m) ⎞⎤\n",
       "⎢(0, 0), (k, 0), ⎜─────────, ──────────────────────────────⎟⎥\n",
       "⎢                ⎜a⋅(e - m)          2            2        ⎟⎥\n",
       "⎣                ⎝                  a ⋅d⋅k⋅(e - m)         ⎠⎦"
      ]
     },
     "execution_count": 5,
     "metadata": {},
     "output_type": "execute_result"
    }
   ],
   "source": [
    "equilibria = solve([deltaX, deltaY], [x, y])\n",
    "equilibria"
   ]
  },
  {
   "cell_type": "markdown",
   "metadata": {},
   "source": [
    "The ecosystem with no resources and hence no consumers, as well as the ecosystem with only resources at their carrying capacity, are the first two, fairly obvious equilibria.\n",
    "\n",
    "The more interesting equilibria is the third one which is highly likely to be the result of a hopf-bifurcation and the focus of the cyclycial dynamics of the overall ecosystem.\n",
    "\n",
    "We define, $cX$ and $cY$ to be:"
   ]
  },
  {
   "cell_type": "code",
   "execution_count": 6,
   "metadata": {
    "collapsed": false,
    "scrolled": true
   },
   "outputs": [
    {
     "data": {
      "image/png": "[encoded data removed]",
      "text/latex": [
       "$$\\left ( \\frac{h m}{a \\left(e - m\\right)}, \\quad - \\frac{e h r}{a^{2} d k \\left(e - m\\right)^{2}} \\left(- a e k + a k m + h m\\right)\\right )$$"
      ],
      "text/plain": [
       "⎛   h⋅m     -e⋅h⋅r⋅(-a⋅e⋅k + a⋅k⋅m + h⋅m) ⎞\n",
       "⎜─────────, ──────────────────────────────⎟\n",
       "⎜a⋅(e - m)          2            2        ⎟\n",
       "⎝                  a ⋅d⋅k⋅(e - m)         ⎠"
      ]
     },
     "execution_count": 6,
     "metadata": {},
     "output_type": "execute_result"
    }
   ],
   "source": [
    "cX0 = equilibria[2][0]\n",
    "cY0 = equilibria[2][1]\n",
    "(cX0, cY0)"
   ]
  },
  {
   "cell_type": "code",
   "execution_count": 7,
   "metadata": {
    "collapsed": false
   },
   "outputs": [
    {
     "data": {
      "image/png": "[encoded data removed]",
      "text/latex": [
       "$$0$$"
      ],
      "text/plain": [
       "0"
      ]
     },
     "execution_count": 7,
     "metadata": {},
     "output_type": "execute_result"
    }
   ],
   "source": [
    "factor(deltaX.subs({ x: cX0, y: cY0}))"
   ]
  },
  {
   "cell_type": "code",
   "execution_count": 8,
   "metadata": {
    "collapsed": false
   },
   "outputs": [
    {
     "data": {
      "image/png": "[encoded data removed]",
      "text/latex": [
       "$$0$$"
      ],
      "text/plain": [
       "0"
      ]
     },
     "execution_count": 8,
     "metadata": {},
     "output_type": "execute_result"
    }
   ],
   "source": [
    "factor(deltaY.subs({ x: cX0, y: cY0}))"
   ]
  },
  {
   "cell_type": "markdown",
   "metadata": {},
   "source": [
    "In these equations, the collection of the parameters, $h, a$, and $(e-m)$ seems to be an important value. To explore this, we define the constant, $\\hat{h}$, as a scaled half-saturation, as follows:"
   ]
  },
  {
   "cell_type": "code",
   "execution_count": 9,
   "metadata": {
    "collapsed": false
   },
   "outputs": [
    {
     "data": {
      "image/png": "[encoded data removed]",
      "text/latex": [
       "$$\\left ( \\hat{h}, \\quad \\frac{h}{e - m}\\right )$$"
      ],
      "text/plain": [
       "⎛           h  ⎞\n",
       "⎜\\hat{h}, ─────⎟\n",
       "⎝         e - m⎠"
      ]
     },
     "execution_count": 9,
     "metadata": {},
     "output_type": "execute_result"
    }
   ],
   "source": [
    "hHat = Symbol('\\hat{h}')\n",
    "hHatDef = h/(e-m)\n",
    "# [biomassY*second]\n",
    "#   == [biomassY]/([biomassY/(biomassY*second)] - [biomassY/(biomassY*second)])\n",
    "#   == [biomassY]/([biomassY/(biomassY*second)])\n",
    "#   == [biomassY] * [(biomassY*second)/biomassY]  \n",
    "hHat, hHatDef"
   ]
  },
  {
   "cell_type": "markdown",
   "metadata": {},
   "source": [
    "Applying this simplification to $cX$ we get"
   ]
  },
  {
   "cell_type": "code",
   "execution_count": 10,
   "metadata": {
    "collapsed": false
   },
   "outputs": [
    {
     "data": {
      "image/png": "[encoded data removed]",
      "text/latex": [
       "$$\\frac{\\hat{h} m}{a}$$"
      ],
      "text/plain": [
       "\\hat{h}⋅m\n",
       "─────────\n",
       "    a    "
      ]
     },
     "execution_count": 10,
     "metadata": {},
     "output_type": "execute_result"
    }
   ],
   "source": [
    "cX1 = cX0.subs(hHatDef, hHat) # [biomassX] == [seconds/biomassX]*[biomassY/(biomassY*second)]\n",
    "cX1"
   ]
  },
  {
   "cell_type": "markdown",
   "metadata": {},
   "source": [
    "Unfortunately, with out some additional work, we can only partially apply this simplificaiton to $cY$. An initial partial application gives us:"
   ]
  },
  {
   "cell_type": "code",
   "execution_count": 11,
   "metadata": {
    "collapsed": false,
    "scrolled": true
   },
   "outputs": [
    {
     "data": {
      "image/png": "[encoded data removed]",
      "text/latex": [
       "$$- \\frac{\\hat{h} e r}{a^{2} d k \\left(e - m\\right)} \\left(- a e k + a k m + h m\\right)$$"
      ],
      "text/plain": [
       "-\\hat{h}⋅e⋅r⋅(-a⋅e⋅k + a⋅k⋅m + h⋅m) \n",
       "────────────────────────────────────\n",
       "            2                       \n",
       "           a ⋅d⋅k⋅(e - m)           "
      ]
     },
     "execution_count": 11,
     "metadata": {},
     "output_type": "execute_result"
    }
   ],
   "source": [
    "cY0.subs(hHatDef, hHat)"
   ]
  },
  {
   "cell_type": "markdown",
   "metadata": {},
   "source": [
    "To simplify this further we need to focus upon the factor:"
   ]
  },
  {
   "cell_type": "code",
   "execution_count": 12,
   "metadata": {
    "collapsed": false,
    "scrolled": true
   },
   "outputs": [
    {
     "data": {
      "image/png": "[encoded data removed]",
      "text/latex": [
       "$$\\frac{1}{a k \\left(e - m\\right)} \\left(- a e k + a k m + h m\\right)$$"
      ],
      "text/plain": [
       "-a⋅e⋅k + a⋅k⋅m + h⋅m\n",
       "────────────────────\n",
       "    a⋅k⋅(e - m)     "
      ]
     },
     "execution_count": 12,
     "metadata": {},
     "output_type": "execute_result"
    }
   ],
   "source": [
    "cYfactor0 = (-a*e*k + a*k*m + h*m)/(a*k*(e-m))\n",
    "cYfactor0"
   ]
  },
  {
   "cell_type": "markdown",
   "metadata": {},
   "source": [
    "We assert that $cYfactor0$ can be rewritten as:"
   ]
  },
  {
   "cell_type": "code",
   "execution_count": 13,
   "metadata": {
    "collapsed": false,
    "scrolled": true
   },
   "outputs": [
    {
     "data": {
      "image/png": "[encoded data removed]",
      "text/latex": [
       "$$-1 + \\frac{h m}{a k \\left(e - m\\right)}$$"
      ],
      "text/plain": [
       "         h⋅m    \n",
       "-1 + ───────────\n",
       "     a⋅k⋅(e - m)"
      ]
     },
     "execution_count": 13,
     "metadata": {},
     "output_type": "execute_result"
    }
   ],
   "source": [
    "cYfactor1 = h*m/(a*k*(e-m)) - 1\n",
    "cYfactor1"
   ]
  },
  {
   "cell_type": "markdown",
   "metadata": {},
   "source": [
    "To prove this we note that:"
   ]
  },
  {
   "cell_type": "code",
   "execution_count": 14,
   "metadata": {
    "collapsed": false
   },
   "outputs": [
    {
     "data": {
      "image/png": "[encoded data removed]",
      "text/latex": [
       "$$- \\frac{a e k}{a e k - a k m} + \\frac{a k m}{a e k - a k m} + \\frac{h m}{a e k - a k m}$$"
      ],
      "text/plain": [
       "      a⋅e⋅k           a⋅k⋅m            h⋅m     \n",
       "- ───────────── + ───────────── + ─────────────\n",
       "  a⋅e⋅k - a⋅k⋅m   a⋅e⋅k - a⋅k⋅m   a⋅e⋅k - a⋅k⋅m"
      ]
     },
     "execution_count": 14,
     "metadata": {},
     "output_type": "execute_result"
    }
   ],
   "source": [
    "expand(cYfactor0)"
   ]
  },
  {
   "cell_type": "code",
   "execution_count": 15,
   "metadata": {
    "collapsed": false,
    "scrolled": true
   },
   "outputs": [
    {
     "data": {
      "image/png": "[encoded data removed]",
      "text/latex": [
       "$$- \\frac{a e k}{a e k - a k m} + \\frac{a k m}{a e k - a k m} + \\frac{h m}{a e k - a k m}$$"
      ],
      "text/plain": [
       "      a⋅e⋅k           a⋅k⋅m            h⋅m     \n",
       "- ───────────── + ───────────── + ─────────────\n",
       "  a⋅e⋅k - a⋅k⋅m   a⋅e⋅k - a⋅k⋅m   a⋅e⋅k - a⋅k⋅m"
      ]
     },
     "execution_count": 15,
     "metadata": {},
     "output_type": "execute_result"
    }
   ],
   "source": [
    "expand(factor(cYfactor1))"
   ]
  },
  {
   "cell_type": "markdown",
   "metadata": {},
   "source": [
    "Hence:"
   ]
  },
  {
   "cell_type": "code",
   "execution_count": 16,
   "metadata": {
    "collapsed": false
   },
   "outputs": [
    {
     "data": {
      "text/plain": [
       "True"
      ]
     },
     "execution_count": 16,
     "metadata": {},
     "output_type": "execute_result"
    }
   ],
   "source": [
    "expand(cYfactor0) == expand(factor(cYfactor1))"
   ]
  },
  {
   "cell_type": "markdown",
   "metadata": {},
   "source": [
    "Applying this substitution to $cY$ we get:"
   ]
  },
  {
   "cell_type": "code",
   "execution_count": 17,
   "metadata": {
    "collapsed": false,
    "scrolled": true
   },
   "outputs": [
    {
     "data": {
      "image/png": "[encoded data removed]",
      "text/latex": [
       "$$- \\frac{\\hat{h} e r}{a d} \\left(\\frac{\\hat{h} m}{a k} - 1\\right)$$"
      ],
      "text/plain": [
       "             ⎛\\hat{h}⋅m    ⎞ \n",
       "-\\hat{h}⋅e⋅r⋅⎜───────── - 1⎟ \n",
       "             ⎝   a⋅k       ⎠ \n",
       "─────────────────────────────\n",
       "             a⋅d             "
      ]
     },
     "execution_count": 17,
     "metadata": {},
     "output_type": "execute_result"
    }
   ],
   "source": [
    "cY0.subs(hHatDef, hHat).subs(cYfactor0, cYfactor1).subs(hHatDef, hHat)"
   ]
  },
  {
   "cell_type": "markdown",
   "metadata": {},
   "source": [
    "or after multiplying the $-1$ into $(\\frac{\\hat{h}m}{ak} - 1)$, we obtain:"
   ]
  },
  {
   "cell_type": "code",
   "execution_count": 18,
   "metadata": {
    "collapsed": false
   },
   "outputs": [
    {
     "data": {
      "image/png": "[encoded data removed]",
      "text/latex": [
       "$$\\frac{\\hat{h} e r}{a d} \\left(- \\frac{\\hat{h} m}{a k} + 1\\right)$$"
      ],
      "text/plain": [
       "            ⎛  \\hat{h}⋅m    ⎞\n",
       "\\hat{h}⋅e⋅r⋅⎜- ───────── + 1⎟\n",
       "            ⎝     a⋅k       ⎠\n",
       "─────────────────────────────\n",
       "             a⋅d             "
      ]
     },
     "execution_count": 18,
     "metadata": {},
     "output_type": "execute_result"
    }
   ],
   "source": [
    "cY1 = ((hHat*e*r)/(a*d))*(1-hHat*m/(a*k))\n",
    "cY1"
   ]
  },
  {
   "cell_type": "markdown",
   "metadata": {},
   "source": [
    "Giving us the resulting cyclic equilibria:"
   ]
  },
  {
   "cell_type": "code",
   "execution_count": 19,
   "metadata": {
    "collapsed": false
   },
   "outputs": [
    {
     "data": {
      "image/png": "[encoded data removed]",
      "text/latex": [
       "$$\\left ( \\frac{\\hat{h} m}{a}, \\quad \\frac{\\hat{h} e r}{a d} \\left(- \\frac{\\hat{h} m}{a k} + 1\\right)\\right )$$"
      ],
      "text/plain": [
       "⎛                       ⎛  \\hat{h}⋅m    ⎞⎞\n",
       "⎜           \\hat{h}⋅e⋅r⋅⎜- ───────── + 1⎟⎟\n",
       "⎜\\hat{h}⋅m              ⎝     a⋅k       ⎠⎟\n",
       "⎜─────────, ─────────────────────────────⎟\n",
       "⎝    a                   a⋅d             ⎠"
      ]
     },
     "execution_count": 19,
     "metadata": {},
     "output_type": "execute_result"
    }
   ],
   "source": [
    "cX1, cY1"
   ]
  },
  {
   "cell_type": "markdown",
   "metadata": {},
   "source": [
    "We note that this is only an ecologically relevant equilibria if both $0 < \\hat{h}$ and $\\frac{\\hat{h}m}{ak} < 1$. Given the definition of $\\hat{h} = \\frac{h}{e-m}$, we know that $0 < \\hat{h}$, only happens when $m < e$. Similarly, $\\frac{\\hat{h}m}{ak} < 1$ only when $\\hat{h} < \\frac{ak}{m}$."
   ]
  },
  {
   "cell_type": "markdown",
   "metadata": {},
   "source": [
    "## Stability about each equilibria\n",
    "\n",
    "We now study the stability of each equlibria by looking at the jacobian of the r1-c1 equations. Recall that the equations themselves are:"
   ]
  },
  {
   "cell_type": "code",
   "execution_count": 20,
   "metadata": {
    "collapsed": false
   },
   "outputs": [
    {
     "data": {
      "image/png": "[encoded data removed]",
      "text/latex": [
       "$$\\left ( - \\frac{a d x y}{a x + h} + r x \\left(1 - \\frac{x}{k}\\right), \\quad \\frac{a e x y}{a x + h} - m y\\right )$$"
      ],
      "text/plain": [
       "⎛  a⋅d⋅x⋅y       ⎛    x⎞  a⋅e⋅x⋅y      ⎞\n",
       "⎜- ─────── + r⋅x⋅⎜1 - ─⎟, ─────── - m⋅y⎟\n",
       "⎝  a⋅x + h       ⎝    k⎠  a⋅x + h      ⎠"
      ]
     },
     "execution_count": 20,
     "metadata": {},
     "output_type": "execute_result"
    }
   ],
   "source": [
    "deltaX, deltaY"
   ]
  },
  {
   "cell_type": "markdown",
   "metadata": {},
   "source": [
    "The jacobian is then:"
   ]
  },
  {
   "cell_type": "code",
   "execution_count": 21,
   "metadata": {
    "collapsed": false
   },
   "outputs": [
    {
     "data": {
      "image/png": "[encoded data removed]",
      "text/latex": [
       "$$\\left ( \\frac{a^{2} d x y}{\\left(a x + h\\right)^{2}} - \\frac{a d y}{a x + h} + r \\left(1 - \\frac{x}{k}\\right) - \\frac{r x}{k}, \\quad - \\frac{a d x}{a x + h}\\right )$$"
      ],
      "text/plain": [
       "⎛  2                                            ⎞\n",
       "⎜ a ⋅d⋅x⋅y     a⋅d⋅y      ⎛    x⎞   r⋅x  -a⋅d⋅x ⎟\n",
       "⎜────────── - ─────── + r⋅⎜1 - ─⎟ - ───, ───────⎟\n",
       "⎜         2   a⋅x + h     ⎝    k⎠    k   a⋅x + h⎟\n",
       "⎝(a⋅x + h)                                      ⎠"
      ]
     },
     "execution_count": 21,
     "metadata": {},
     "output_type": "execute_result"
    }
   ],
   "source": [
    "diff(deltaX, x), diff(deltaX, y)"
   ]
  },
  {
   "cell_type": "code",
   "execution_count": 22,
   "metadata": {
    "collapsed": false
   },
   "outputs": [
    {
     "data": {
      "image/png": "[encoded data removed]",
      "text/latex": [
       "$$\\left ( - \\frac{a^{2} e x y}{\\left(a x + h\\right)^{2}} + \\frac{a e y}{a x + h}, \\quad \\frac{a e x}{a x + h} - m\\right )$$"
      ],
      "text/plain": [
       "⎛    2                              ⎞\n",
       "⎜   a ⋅e⋅x⋅y     a⋅e⋅y    a⋅e⋅x     ⎟\n",
       "⎜- ────────── + ───────, ─────── - m⎟\n",
       "⎜           2   a⋅x + h  a⋅x + h    ⎟\n",
       "⎝  (a⋅x + h)                        ⎠"
      ]
     },
     "execution_count": 22,
     "metadata": {},
     "output_type": "execute_result"
    }
   ],
   "source": [
    "diff(deltaY,x), diff(deltaY,y)"
   ]
  },
  {
   "cell_type": "code",
   "execution_count": 23,
   "metadata": {
    "collapsed": false,
    "scrolled": true
   },
   "outputs": [
    {
     "data": {
      "image/png": "[encoded data removed]",
      "text/latex": [
       "$$\\left[\\begin{matrix}\\frac{a^{2} d x y}{\\left(a x + h\\right)^{2}} - \\frac{a d y}{a x + h} + r \\left(1 - \\frac{x}{k}\\right) - \\frac{r x}{k} & - \\frac{a d x}{a x + h}\\\\- \\frac{a^{2} e x y}{\\left(a x + h\\right)^{2}} + \\frac{a e y}{a x + h} & \\frac{a e x}{a x + h} - m\\end{matrix}\\right]$$"
      ],
      "text/plain": [
       "⎡  2                                                ⎤\n",
       "⎢ a ⋅d⋅x⋅y     a⋅d⋅y      ⎛    x⎞   r⋅x    -a⋅d⋅x   ⎥\n",
       "⎢────────── - ─────── + r⋅⎜1 - ─⎟ - ───    ───────  ⎥\n",
       "⎢         2   a⋅x + h     ⎝    k⎠    k     a⋅x + h  ⎥\n",
       "⎢(a⋅x + h)                                          ⎥\n",
       "⎢                                                   ⎥\n",
       "⎢            2                                      ⎥\n",
       "⎢           a ⋅e⋅x⋅y     a⋅e⋅y            a⋅e⋅x     ⎥\n",
       "⎢        - ────────── + ───────          ─────── - m⎥\n",
       "⎢                   2   a⋅x + h          a⋅x + h    ⎥\n",
       "⎣          (a⋅x + h)                                ⎦"
      ]
     },
     "execution_count": 23,
     "metadata": {},
     "output_type": "execute_result"
    }
   ],
   "source": [
    "from sympy.matrices import *\n",
    "delta = Matrix([deltaX, deltaY])\n",
    "jacob = delta.jacobian([x, y])\n",
    "jacob"
   ]
  },
  {
   "cell_type": "markdown",
   "metadata": {},
   "source": [
    "### Stability around origin (no ecology)"
   ]
  },
  {
   "cell_type": "code",
   "execution_count": 24,
   "metadata": {
    "collapsed": false,
    "scrolled": true
   },
   "outputs": [
    {
     "data": {
      "image/png": "[encoded data removed]",
      "text/latex": [
       "$$\\left[\\begin{matrix}r & 0\\\\0 & - m\\end{matrix}\\right]$$"
      ],
      "text/plain": [
       "⎡r  0 ⎤\n",
       "⎢     ⎥\n",
       "⎣0  -m⎦"
      ]
     },
     "execution_count": 24,
     "metadata": {},
     "output_type": "execute_result"
    }
   ],
   "source": [
    "jacob.subs(x, 0).subs(y, 0)"
   ]
  },
  {
   "cell_type": "code",
   "execution_count": 25,
   "metadata": {
    "collapsed": false,
    "scrolled": true
   },
   "outputs": [
    {
     "data": {
      "image/png": "[encoded data removed]",
      "text/latex": [
       "$$- m r$$"
      ],
      "text/plain": [
       "-m⋅r"
      ]
     },
     "execution_count": 25,
     "metadata": {},
     "output_type": "execute_result"
    }
   ],
   "source": [
    "jacob.subs(x, 0).subs(y, 0).det()"
   ]
  },
  {
   "cell_type": "code",
   "execution_count": 26,
   "metadata": {
    "collapsed": false,
    "scrolled": true
   },
   "outputs": [
    {
     "data": {
      "image/png": "[encoded data removed]",
      "text/latex": [
       "$$\\left [ \\left ( - m, \\quad 1, \\quad \\left [ \\left[\\begin{matrix}0\\\\1\\end{matrix}\\right]\\right ]\\right ), \\quad \\left ( r, \\quad 1, \\quad \\left [ \\left[\\begin{matrix}1\\\\0\\end{matrix}\\right]\\right ]\\right )\\right ]$$"
      ],
      "text/plain": [
       "⎡⎛-m, 1, ⎡⎡0⎤⎤⎞, ⎛r, 1, ⎡⎡1⎤⎤⎞⎤\n",
       "⎢⎜       ⎢⎢ ⎥⎥⎟  ⎜      ⎢⎢ ⎥⎥⎟⎥\n",
       "⎣⎝       ⎣⎣1⎦⎦⎠  ⎝      ⎣⎣0⎦⎦⎠⎦"
      ]
     },
     "execution_count": 26,
     "metadata": {},
     "output_type": "execute_result"
    }
   ],
   "source": [
    "jacob.subs(x, 0).subs(y, 0).eigenvects()"
   ]
  },
  {
   "cell_type": "markdown",
   "metadata": {},
   "source": [
    "### Stability around resources at carrying capacity"
   ]
  },
  {
   "cell_type": "code",
   "execution_count": 27,
   "metadata": {
    "collapsed": false,
    "scrolled": false
   },
   "outputs": [
    {
     "data": {
      "image/png": "[encoded data removed]",
      "text/latex": [
       "$$\\left[\\begin{matrix}- r & - \\frac{a d k}{a k + h}\\\\0 & \\frac{a e k}{a k + h} - m\\end{matrix}\\right]$$"
      ],
      "text/plain": [
       "⎡      -a⋅d⋅k   ⎤\n",
       "⎢-r    ───────  ⎥\n",
       "⎢      a⋅k + h  ⎥\n",
       "⎢               ⎥\n",
       "⎢     a⋅e⋅k     ⎥\n",
       "⎢0   ─────── - m⎥\n",
       "⎣    a⋅k + h    ⎦"
      ]
     },
     "execution_count": 27,
     "metadata": {},
     "output_type": "execute_result"
    }
   ],
   "source": [
    "jacob.subs(x, k).subs(y, 0)"
   ]
  },
  {
   "cell_type": "markdown",
   "metadata": {},
   "source": [
    "We consider a scaled attack rate:"
   ]
  },
  {
   "cell_type": "code",
   "execution_count": 28,
   "metadata": {
    "collapsed": false
   },
   "outputs": [
    {
     "data": {
      "image/png": "[encoded data removed]",
      "text/latex": [
       "$$\\left ( \\hat{a}, \\quad \\frac{a k}{a k + h}\\right )$$"
      ],
      "text/plain": [
       "⎛           a⋅k  ⎞\n",
       "⎜\\hat{a}, ───────⎟\n",
       "⎝         a⋅k + h⎠"
      ]
     },
     "execution_count": 28,
     "metadata": {},
     "output_type": "execute_result"
    }
   ],
   "source": [
    "aHat = Symbol('\\hat{a}')\n",
    "aHatDef = a*k/(a*k + h)\n",
    "#  [??] == ??\n",
    "aHat, aHatDef"
   ]
  },
  {
   "cell_type": "code",
   "execution_count": 29,
   "metadata": {
    "collapsed": false,
    "scrolled": true
   },
   "outputs": [
    {
     "data": {
      "image/png": "[encoded data removed]",
      "text/latex": [
       "$$- \\hat{a} e r + m r$$"
      ],
      "text/plain": [
       "-\\hat{a}⋅e⋅r + m⋅r"
      ]
     },
     "execution_count": 29,
     "metadata": {},
     "output_type": "execute_result"
    }
   ],
   "source": [
    "jacob.subs(x, k).subs(y, 0).subs(aHatDef, aHat).det()"
   ]
  },
  {
   "cell_type": "code",
   "execution_count": 30,
   "metadata": {
    "collapsed": false,
    "scrolled": true
   },
   "outputs": [
    {
     "data": {
      "image/png": "[encoded data removed]",
      "text/latex": [
       "$$\\left [ \\left ( - r, \\quad 1, \\quad \\left [ \\left[\\begin{matrix}1\\\\0\\end{matrix}\\right]\\right ]\\right ), \\quad \\left ( \\hat{a} e - m, \\quad 1, \\quad \\left [ \\left[\\begin{matrix}\\frac{\\hat{a} d}{- \\hat{a} e + m - r}\\\\1\\end{matrix}\\right]\\right ]\\right )\\right ]$$"
      ],
      "text/plain": [
       "⎡                ⎛                  ⎡⎡    \\hat{a}⋅d     ⎤⎤⎞⎤\n",
       "⎢⎛-r, 1, ⎡⎡1⎤⎤⎞, ⎜\\hat{a}⋅e - m, 1, ⎢⎢──────────────────⎥⎥⎟⎥\n",
       "⎢⎜       ⎢⎢ ⎥⎥⎟  ⎜                  ⎢⎢-\\hat{a}⋅e + m - r⎥⎥⎟⎥\n",
       "⎢⎝       ⎣⎣0⎦⎦⎠  ⎜                  ⎢⎢                  ⎥⎥⎟⎥\n",
       "⎣                ⎝                  ⎣⎣        1         ⎦⎦⎠⎦"
      ]
     },
     "execution_count": 30,
     "metadata": {},
     "output_type": "execute_result"
    }
   ],
   "source": [
    "jacob.subs(x, k).subs(y, 0).subs(aHatDef, aHat).eigenvects()"
   ]
  },
  {
   "cell_type": "markdown",
   "metadata": {},
   "source": [
    "### Stability around cyclic equilibrium"
   ]
  },
  {
   "cell_type": "code",
   "execution_count": 31,
   "metadata": {
    "collapsed": false,
    "scrolled": false
   },
   "outputs": [
    {
     "data": {
      "image/png": "[encoded data removed]",
      "text/latex": [
       "$$\\left[\\begin{matrix}\\frac{\\hat{h}^{2} e m r}{\\left(\\hat{h} m + h\\right)^{2}} \\left(- \\frac{\\hat{h} m}{a k} + 1\\right) - \\frac{\\hat{h} e r}{\\hat{h} m + h} \\left(- \\frac{\\hat{h} m}{a k} + 1\\right) - \\frac{\\hat{h} m r}{a k} + r \\left(- \\frac{\\hat{h} m}{a k} + 1\\right) & - \\frac{\\hat{h} d m}{\\hat{h} m + h}\\\\- \\frac{\\hat{h}^{2} e^{2} m r \\left(- \\frac{\\hat{h} m}{a k} + 1\\right)}{d \\left(\\hat{h} m + h\\right)^{2}} + \\frac{\\hat{h} e^{2} r \\left(- \\frac{\\hat{h} m}{a k} + 1\\right)}{d \\left(\\hat{h} m + h\\right)} & \\frac{\\hat{h} e m}{\\hat{h} m + h} - m\\end{matrix}\\right]$$"
      ],
      "text/plain": [
       "⎡       2       ⎛  \\hat{h}⋅m    ⎞               ⎛  \\hat{h}⋅m    ⎞             \n",
       "⎢\\hat{h} ⋅e⋅m⋅r⋅⎜- ───────── + 1⎟   \\hat{h}⋅e⋅r⋅⎜- ───────── + 1⎟             \n",
       "⎢               ⎝     a⋅k       ⎠               ⎝     a⋅k       ⎠   \\hat{h}⋅m⋅\n",
       "⎢──────────────────────────────── - ───────────────────────────── - ──────────\n",
       "⎢                       2                   \\hat{h}⋅m + h               a⋅k   \n",
       "⎢        (\\hat{h}⋅m + h)                                                      \n",
       "⎢                                                                             \n",
       "⎢                         2  2     ⎛  \\hat{h}⋅m    ⎞            2   ⎛  \\hat{h}\n",
       "⎢                  \\hat{h} ⋅e ⋅m⋅r⋅⎜- ───────── + 1⎟   \\hat{h}⋅e ⋅r⋅⎜- ───────\n",
       "⎢                                  ⎝     a⋅k       ⎠                ⎝     a⋅k \n",
       "⎢                - ───────────────────────────────── + ───────────────────────\n",
       "⎢                                           2                d⋅(\\hat{h}⋅m + h)\n",
       "⎣                          d⋅(\\hat{h}⋅m + h)                                  \n",
       "\n",
       "                                          ⎤\n",
       "                                          ⎥\n",
       "r     ⎛  \\hat{h}⋅m    ⎞    -\\hat{h}⋅d⋅m   ⎥\n",
       "─ + r⋅⎜- ───────── + 1⎟    ─────────────  ⎥\n",
       "      ⎝     a⋅k       ⎠    \\hat{h}⋅m + h  ⎥\n",
       "                                          ⎥\n",
       "                                          ⎥\n",
       "⋅m    ⎞                                   ⎥\n",
       "── + 1⎟                                   ⎥\n",
       "      ⎠                   \\hat{h}⋅e⋅m     ⎥\n",
       "───────                  ───────────── - m⎥\n",
       "                         \\hat{h}⋅m + h    ⎥\n",
       "                                          ⎦"
      ]
     },
     "execution_count": 31,
     "metadata": {},
     "output_type": "execute_result"
    }
   ],
   "source": [
    "jacob.subs(x, cX1).subs(y, cY1)"
   ]
  },
  {
   "cell_type": "markdown",
   "metadata": {},
   "source": [
    "Consider a scaled ??:"
   ]
  },
  {
   "cell_type": "code",
   "execution_count": 32,
   "metadata": {
    "collapsed": false,
    "scrolled": false
   },
   "outputs": [
    {
     "data": {
      "image/png": "[encoded data removed]",
      "text/latex": [
       "$$\\left ( \\hat{b}, \\quad - \\frac{\\hat{h} m}{a k} + 1\\right )$$"
      ],
      "text/plain": [
       "⎛           \\hat{h}⋅m    ⎞\n",
       "⎜\\hat{b}, - ───────── + 1⎟\n",
       "⎝              a⋅k       ⎠"
      ]
     },
     "execution_count": 32,
     "metadata": {},
     "output_type": "execute_result"
    }
   ],
   "source": [
    "bHat = Symbol('\\hat{b}')\n",
    "bHatDef = 1 - hHat*m/(a*k)\n",
    "#  [??] == ??\n",
    "bHat, bHatDef"
   ]
  },
  {
   "cell_type": "markdown",
   "metadata": {},
   "source": [
    "and a scaled ??:"
   ]
  },
  {
   "cell_type": "code",
   "execution_count": 33,
   "metadata": {
    "collapsed": false
   },
   "outputs": [
    {
     "data": {
      "image/png": "[encoded data removed]",
      "text/latex": [
       "$$\\left ( \\hat{c}, \\quad \\frac{\\hat{h}}{\\hat{h} m + h}\\right )$$"
      ],
      "text/plain": [
       "⎛            \\hat{h}   ⎞\n",
       "⎜\\hat{c}, ─────────────⎟\n",
       "⎝         \\hat{h}⋅m + h⎠"
      ]
     },
     "execution_count": 33,
     "metadata": {},
     "output_type": "execute_result"
    }
   ],
   "source": [
    "cHat = Symbol('\\hat{c}')\n",
    "cHatDef = hHat/(hHat*m+h)\n",
    "#  [??] == ??\n",
    "cHat, cHatDef"
   ]
  },
  {
   "cell_type": "code",
   "execution_count": 34,
   "metadata": {
    "collapsed": false
   },
   "outputs": [
    {
     "data": {
      "image/png": "[encoded data removed]",
      "text/latex": [
       "$$\\left[\\begin{matrix}\\hat{b} \\hat{c}^{2} e m r - \\hat{b} \\hat{c} e r + \\hat{b} r - \\frac{\\hat{h} m r}{a k} & - \\hat{c} d m\\\\- \\frac{\\hat{b} m}{d} \\hat{c}^{2} e^{2} r + \\frac{\\hat{b} \\hat{c}}{d} e^{2} r & \\hat{c} e m - m\\end{matrix}\\right]$$"
      ],
      "text/plain": [
       "⎡               2                                           \\hat{h}⋅m⋅r       \n",
       "⎢\\hat{b}⋅\\hat{c} ⋅e⋅m⋅r - \\hat{b}⋅\\hat{c}⋅e⋅r + \\hat{b}⋅r - ───────────   -\\ha\n",
       "⎢                                                               a⋅k           \n",
       "⎢                                                                             \n",
       "⎢                            2  2                        2                    \n",
       "⎢             \\hat{b}⋅\\hat{c} ⋅e ⋅m⋅r   \\hat{b}⋅\\hat{c}⋅e ⋅r                  \n",
       "⎢           - ─────────────────────── + ────────────────────             \\hat{\n",
       "⎣                        d                       d                            \n",
       "\n",
       "          ⎤\n",
       "t{c}⋅d⋅m  ⎥\n",
       "          ⎥\n",
       "          ⎥\n",
       "          ⎥\n",
       "          ⎥\n",
       "c}⋅e⋅m - m⎥\n",
       "          ⎦"
      ]
     },
     "execution_count": 34,
     "metadata": {},
     "output_type": "execute_result"
    }
   ],
   "source": [
    "jacob.subs(x, cX1).subs(y, cY1).subs(bHatDef, bHat).subs(cHatDef, cHat)"
   ]
  },
  {
   "cell_type": "code",
   "execution_count": 35,
   "metadata": {
    "collapsed": false,
    "scrolled": false
   },
   "outputs": [
    {
     "data": {
      "image/png": "[encoded data removed]",
      "text/latex": [
       "$$- \\frac{\\hat{b} \\hat{h}^{3} d e^{2} m^{2} r}{\\hat{h}^{3} d m^{3} + 3 \\hat{h}^{2} d h m^{2} + 3 \\hat{h} d h^{2} m + d h^{3}} + \\frac{\\hat{b} \\hat{h}^{3} e^{2} m^{2} r}{\\hat{h}^{3} m^{3} + 3 \\hat{h}^{2} h m^{2} + 3 \\hat{h} h^{2} m + h^{3}} + \\frac{\\hat{b} \\hat{h}^{2} d e^{2} m r}{\\hat{h}^{2} d m^{2} + 2 \\hat{h} d h m + d h^{2}} - \\frac{\\hat{b} \\hat{h}^{2} e^{2} m r}{\\hat{h}^{2} m^{2} + 2 \\hat{h} h m + h^{2}} - \\frac{\\hat{b} \\hat{h}^{2} e m^{2} r}{\\hat{h}^{2} m^{2} + 2 \\hat{h} h m + h^{2}} + \\frac{2 \\hat{b} \\hat{h} e m r}{\\hat{h} m + h} - \\hat{b} m r - \\frac{\\hat{h}^{2} e m^{2} r}{\\hat{h} a k m + a h k} + \\frac{\\hat{h} m^{2} r}{a k}$$"
      ],
      "text/plain": [
       "                                  3    2  2                                   \n",
       "                   \\hat{b}⋅\\hat{h} ⋅d⋅e ⋅m ⋅r                                 \n",
       "- ─────────────────────────────────────────────────────────── + ──────────────\n",
       "         3    3            2      2                2        3          3  3   \n",
       "  \\hat{h} ⋅d⋅m  + 3⋅\\hat{h} ⋅d⋅h⋅m  + 3⋅\\hat{h}⋅d⋅h ⋅m + d⋅h    \\hat{h} ⋅m  + \n",
       "\n",
       "               3  2  2                                       2    2           \n",
       "\\hat{b}⋅\\hat{h} ⋅e ⋅m ⋅r                      \\hat{b}⋅\\hat{h} ⋅d⋅e ⋅m⋅r       \n",
       "───────────────────────────────────── + ──────────────────────────────────────\n",
       "         2    2              2      3          2    2                        2\n",
       "3⋅\\hat{h} ⋅h⋅m  + 3⋅\\hat{h}⋅h ⋅m + h    \\hat{h} ⋅d⋅m  + 2⋅\\hat{h}⋅d⋅h⋅m + d⋅h \n",
       "\n",
       "                      2  2                               2    2               \n",
       "       \\hat{b}⋅\\hat{h} ⋅e ⋅m⋅r            \\hat{b}⋅\\hat{h} ⋅e⋅m ⋅r        2⋅\\ha\n",
       " - ──────────────────────────────── - ──────────────────────────────── + ─────\n",
       "          2  2                    2          2  2                    2        \n",
       "   \\hat{h} ⋅m  + 2⋅\\hat{h}⋅h⋅m + h    \\hat{h} ⋅m  + 2⋅\\hat{h}⋅h⋅m + h         \n",
       "\n",
       "                                             2    2                 2  \n",
       "t{b}⋅\\hat{h}⋅e⋅m⋅r                    \\hat{h} ⋅e⋅m ⋅r      \\hat{h}⋅m ⋅r\n",
       "────────────────── - \\hat{b}⋅m⋅r - ───────────────────── + ────────────\n",
       "\\hat{h}⋅m + h                      \\hat{h}⋅a⋅k⋅m + a⋅h⋅k       a⋅k     \n",
       "                                                                       "
      ]
     },
     "execution_count": 35,
     "metadata": {},
     "output_type": "execute_result"
    }
   ],
   "source": [
    "jacob.subs(x, cX1).subs(y, cY1).subs(bHatDef, bHat).det()"
   ]
  },
  {
   "cell_type": "code",
   "execution_count": 36,
   "metadata": {
    "collapsed": false
   },
   "outputs": [
    {
     "data": {
      "image/png": "[encoded data removed]",
      "text/latex": [
       "$$\\left [ \\left ( - \\frac{1}{2 a k \\left(\\hat{h}^{2} m^{2} + 2 \\hat{h} h m + h^{2}\\right)} \\sqrt{4 \\hat{h}^{6} m^{6} r^{2} + 4 \\hat{h}^{5} a e k m^{5} r - 4 \\hat{h}^{5} a k m^{6} r - 4 \\hat{h}^{5} a k m^{5} r^{2} - 4 \\hat{h}^{5} e h m^{4} r^{2} + 16 \\hat{h}^{5} h m^{5} r^{2} + \\hat{h}^{4} a^{2} e^{2} k^{2} m^{4} - 2 \\hat{h}^{4} a^{2} e k^{2} m^{5} - 2 \\hat{h}^{4} a^{2} e k^{2} m^{4} r + \\hat{h}^{4} a^{2} k^{2} m^{6} + 2 \\hat{h}^{4} a^{2} k^{2} m^{5} r + \\hat{h}^{4} a^{2} k^{2} m^{4} r^{2} + 2 \\hat{h}^{4} a e^{2} h k m^{3} r + 14 \\hat{h}^{4} a e h k m^{4} r + 6 \\hat{h}^{4} a e h k m^{3} r^{2} - 16 \\hat{h}^{4} a h k m^{5} r - 16 \\hat{h}^{4} a h k m^{4} r^{2} + \\hat{h}^{4} e^{2} h^{2} m^{2} r^{2} - 8 \\hat{h}^{4} e h^{2} m^{3} r^{2} + 24 \\hat{h}^{4} h^{2} m^{4} r^{2} + 2 \\hat{h}^{3} a^{2} e^{2} h k^{2} m^{3} - 2 \\hat{h}^{3} a^{2} e^{2} h k^{2} m^{2} r - 6 \\hat{h}^{3} a^{2} e h k^{2} m^{4} - 8 \\hat{h}^{3} a^{2} e h k^{2} m^{3} r - 2 \\hat{h}^{3} a^{2} e h k^{2} m^{2} r^{2} + 4 \\hat{h}^{3} a^{2} h k^{2} m^{5} + 8 \\hat{h}^{3} a^{2} h k^{2} m^{4} r + 4 \\hat{h}^{3} a^{2} h k^{2} m^{3} r^{2} + 2 \\hat{h}^{3} a e^{2} h^{2} k m^{2} r - 2 \\hat{h}^{3} a e^{2} h^{2} k m r^{2} + 16 \\hat{h}^{3} a e h^{2} k m^{3} r + 12 \\hat{h}^{3} a e h^{2} k m^{2} r^{2} - 24 \\hat{h}^{3} a h^{2} k m^{4} r - 24 \\hat{h}^{3} a h^{2} k m^{3} r^{2} - 4 \\hat{h}^{3} e h^{3} m^{2} r^{2} + 16 \\hat{h}^{3} h^{3} m^{3} r^{2} + \\hat{h}^{2} a^{2} e^{2} h^{2} k^{2} m^{2} - 2 \\hat{h}^{2} a^{2} e^{2} h^{2} k^{2} m r + \\hat{h}^{2} a^{2} e^{2} h^{2} k^{2} r^{2} - 6 \\hat{h}^{2} a^{2} e h^{2} k^{2} m^{3} - 10 \\hat{h}^{2} a^{2} e h^{2} k^{2} m^{2} r - 4 \\hat{h}^{2} a^{2} e h^{2} k^{2} m r^{2} + 6 \\hat{h}^{2} a^{2} h^{2} k^{2} m^{4} + 12 \\hat{h}^{2} a^{2} h^{2} k^{2} m^{3} r + 6 \\hat{h}^{2} a^{2} h^{2} k^{2} m^{2} r^{2} + 6 \\hat{h}^{2} a e h^{3} k m^{2} r + 6 \\hat{h}^{2} a e h^{3} k m r^{2} - 16 \\hat{h}^{2} a h^{3} k m^{3} r - 16 \\hat{h}^{2} a h^{3} k m^{2} r^{2} + 4 \\hat{h}^{2} h^{4} m^{2} r^{2} - 2 \\hat{h} a^{2} e h^{3} k^{2} m^{2} - 4 \\hat{h} a^{2} e h^{3} k^{2} m r - 2 \\hat{h} a^{2} e h^{3} k^{2} r^{2} + 4 \\hat{h} a^{2} h^{3} k^{2} m^{3} + 8 \\hat{h} a^{2} h^{3} k^{2} m^{2} r + 4 \\hat{h} a^{2} h^{3} k^{2} m r^{2} - 4 \\hat{h} a h^{4} k m^{2} r - 4 \\hat{h} a h^{4} k m r^{2} + a^{2} h^{4} k^{2} m^{2} + 2 a^{2} h^{4} k^{2} m r + a^{2} h^{4} k^{2} r^{2}} - \\frac{1}{2 a k \\left(\\hat{h} m + h\\right)^{2}} \\left(2 \\hat{h}^{3} m^{3} r - \\hat{h}^{2} a e k m^{2} + \\hat{h}^{2} a k m^{3} - \\hat{h}^{2} a k m^{2} r - \\hat{h}^{2} e h m r + 4 \\hat{h}^{2} h m^{2} r - \\hat{h} a e h k m + \\hat{h} a e h k r + 2 \\hat{h} a h k m^{2} - 2 \\hat{h} a h k m r + 2 \\hat{h} h^{2} m r + a h^{2} k m - a h^{2} k r\\right), \\quad 1, \\quad \\left [ \\left[\\begin{matrix}\\frac{2 \\hat{h} a d k m \\left(\\hat{h}^{2} m^{2} + 2 \\hat{h} h m + h^{2}\\right)}{\\left(\\hat{h} m + h\\right) \\left(- 2 \\hat{h}^{3} m^{3} r - \\hat{h}^{2} a e k m^{2} + \\hat{h}^{2} a k m^{3} + \\hat{h}^{2} a k m^{2} r + \\hat{h}^{2} e h m r - 4 \\hat{h}^{2} h m^{2} r - \\hat{h} a e h k m - \\hat{h} a e h k r + 2 \\hat{h} a h k m^{2} + 2 \\hat{h} a h k m r - 2 \\hat{h} h^{2} m r + a h^{2} k m + a h^{2} k r + \\sqrt{4 \\hat{h}^{6} m^{6} r^{2} + 4 \\hat{h}^{5} a e k m^{5} r - 4 \\hat{h}^{5} a k m^{6} r - 4 \\hat{h}^{5} a k m^{5} r^{2} - 4 \\hat{h}^{5} e h m^{4} r^{2} + 16 \\hat{h}^{5} h m^{5} r^{2} + \\hat{h}^{4} a^{2} e^{2} k^{2} m^{4} - 2 \\hat{h}^{4} a^{2} e k^{2} m^{5} - 2 \\hat{h}^{4} a^{2} e k^{2} m^{4} r + \\hat{h}^{4} a^{2} k^{2} m^{6} + 2 \\hat{h}^{4} a^{2} k^{2} m^{5} r + \\hat{h}^{4} a^{2} k^{2} m^{4} r^{2} + 2 \\hat{h}^{4} a e^{2} h k m^{3} r + 14 \\hat{h}^{4} a e h k m^{4} r + 6 \\hat{h}^{4} a e h k m^{3} r^{2} - 16 \\hat{h}^{4} a h k m^{5} r - 16 \\hat{h}^{4} a h k m^{4} r^{2} + \\hat{h}^{4} e^{2} h^{2} m^{2} r^{2} - 8 \\hat{h}^{4} e h^{2} m^{3} r^{2} + 24 \\hat{h}^{4} h^{2} m^{4} r^{2} + 2 \\hat{h}^{3} a^{2} e^{2} h k^{2} m^{3} - 2 \\hat{h}^{3} a^{2} e^{2} h k^{2} m^{2} r - 6 \\hat{h}^{3} a^{2} e h k^{2} m^{4} - 8 \\hat{h}^{3} a^{2} e h k^{2} m^{3} r - 2 \\hat{h}^{3} a^{2} e h k^{2} m^{2} r^{2} + 4 \\hat{h}^{3} a^{2} h k^{2} m^{5} + 8 \\hat{h}^{3} a^{2} h k^{2} m^{4} r + 4 \\hat{h}^{3} a^{2} h k^{2} m^{3} r^{2} + 2 \\hat{h}^{3} a e^{2} h^{2} k m^{2} r - 2 \\hat{h}^{3} a e^{2} h^{2} k m r^{2} + 16 \\hat{h}^{3} a e h^{2} k m^{3} r + 12 \\hat{h}^{3} a e h^{2} k m^{2} r^{2} - 24 \\hat{h}^{3} a h^{2} k m^{4} r - 24 \\hat{h}^{3} a h^{2} k m^{3} r^{2} - 4 \\hat{h}^{3} e h^{3} m^{2} r^{2} + 16 \\hat{h}^{3} h^{3} m^{3} r^{2} + \\hat{h}^{2} a^{2} e^{2} h^{2} k^{2} m^{2} - 2 \\hat{h}^{2} a^{2} e^{2} h^{2} k^{2} m r + \\hat{h}^{2} a^{2} e^{2} h^{2} k^{2} r^{2} - 6 \\hat{h}^{2} a^{2} e h^{2} k^{2} m^{3} - 10 \\hat{h}^{2} a^{2} e h^{2} k^{2} m^{2} r - 4 \\hat{h}^{2} a^{2} e h^{2} k^{2} m r^{2} + 6 \\hat{h}^{2} a^{2} h^{2} k^{2} m^{4} + 12 \\hat{h}^{2} a^{2} h^{2} k^{2} m^{3} r + 6 \\hat{h}^{2} a^{2} h^{2} k^{2} m^{2} r^{2} + 6 \\hat{h}^{2} a e h^{3} k m^{2} r + 6 \\hat{h}^{2} a e h^{3} k m r^{2} - 16 \\hat{h}^{2} a h^{3} k m^{3} r - 16 \\hat{h}^{2} a h^{3} k m^{2} r^{2} + 4 \\hat{h}^{2} h^{4} m^{2} r^{2} - 2 \\hat{h} a^{2} e h^{3} k^{2} m^{2} - 4 \\hat{h} a^{2} e h^{3} k^{2} m r - 2 \\hat{h} a^{2} e h^{3} k^{2} r^{2} + 4 \\hat{h} a^{2} h^{3} k^{2} m^{3} + 8 \\hat{h} a^{2} h^{3} k^{2} m^{2} r + 4 \\hat{h} a^{2} h^{3} k^{2} m r^{2} - 4 \\hat{h} a h^{4} k m^{2} r - 4 \\hat{h} a h^{4} k m r^{2} + a^{2} h^{4} k^{2} m^{2} + 2 a^{2} h^{4} k^{2} m r + a^{2} h^{4} k^{2} r^{2}}\\right)}\\\\1\\end{matrix}\\right]\\right ]\\right ), \\quad \\left ( \\frac{1}{2 a k \\left(\\hat{h}^{2} m^{2} + 2 \\hat{h} h m + h^{2}\\right)} \\sqrt{4 \\hat{h}^{6} m^{6} r^{2} + 4 \\hat{h}^{5} a e k m^{5} r - 4 \\hat{h}^{5} a k m^{6} r - 4 \\hat{h}^{5} a k m^{5} r^{2} - 4 \\hat{h}^{5} e h m^{4} r^{2} + 16 \\hat{h}^{5} h m^{5} r^{2} + \\hat{h}^{4} a^{2} e^{2} k^{2} m^{4} - 2 \\hat{h}^{4} a^{2} e k^{2} m^{5} - 2 \\hat{h}^{4} a^{2} e k^{2} m^{4} r + \\hat{h}^{4} a^{2} k^{2} m^{6} + 2 \\hat{h}^{4} a^{2} k^{2} m^{5} r + \\hat{h}^{4} a^{2} k^{2} m^{4} r^{2} + 2 \\hat{h}^{4} a e^{2} h k m^{3} r + 14 \\hat{h}^{4} a e h k m^{4} r + 6 \\hat{h}^{4} a e h k m^{3} r^{2} - 16 \\hat{h}^{4} a h k m^{5} r - 16 \\hat{h}^{4} a h k m^{4} r^{2} + \\hat{h}^{4} e^{2} h^{2} m^{2} r^{2} - 8 \\hat{h}^{4} e h^{2} m^{3} r^{2} + 24 \\hat{h}^{4} h^{2} m^{4} r^{2} + 2 \\hat{h}^{3} a^{2} e^{2} h k^{2} m^{3} - 2 \\hat{h}^{3} a^{2} e^{2} h k^{2} m^{2} r - 6 \\hat{h}^{3} a^{2} e h k^{2} m^{4} - 8 \\hat{h}^{3} a^{2} e h k^{2} m^{3} r - 2 \\hat{h}^{3} a^{2} e h k^{2} m^{2} r^{2} + 4 \\hat{h}^{3} a^{2} h k^{2} m^{5} + 8 \\hat{h}^{3} a^{2} h k^{2} m^{4} r + 4 \\hat{h}^{3} a^{2} h k^{2} m^{3} r^{2} + 2 \\hat{h}^{3} a e^{2} h^{2} k m^{2} r - 2 \\hat{h}^{3} a e^{2} h^{2} k m r^{2} + 16 \\hat{h}^{3} a e h^{2} k m^{3} r + 12 \\hat{h}^{3} a e h^{2} k m^{2} r^{2} - 24 \\hat{h}^{3} a h^{2} k m^{4} r - 24 \\hat{h}^{3} a h^{2} k m^{3} r^{2} - 4 \\hat{h}^{3} e h^{3} m^{2} r^{2} + 16 \\hat{h}^{3} h^{3} m^{3} r^{2} + \\hat{h}^{2} a^{2} e^{2} h^{2} k^{2} m^{2} - 2 \\hat{h}^{2} a^{2} e^{2} h^{2} k^{2} m r + \\hat{h}^{2} a^{2} e^{2} h^{2} k^{2} r^{2} - 6 \\hat{h}^{2} a^{2} e h^{2} k^{2} m^{3} - 10 \\hat{h}^{2} a^{2} e h^{2} k^{2} m^{2} r - 4 \\hat{h}^{2} a^{2} e h^{2} k^{2} m r^{2} + 6 \\hat{h}^{2} a^{2} h^{2} k^{2} m^{4} + 12 \\hat{h}^{2} a^{2} h^{2} k^{2} m^{3} r + 6 \\hat{h}^{2} a^{2} h^{2} k^{2} m^{2} r^{2} + 6 \\hat{h}^{2} a e h^{3} k m^{2} r + 6 \\hat{h}^{2} a e h^{3} k m r^{2} - 16 \\hat{h}^{2} a h^{3} k m^{3} r - 16 \\hat{h}^{2} a h^{3} k m^{2} r^{2} + 4 \\hat{h}^{2} h^{4} m^{2} r^{2} - 2 \\hat{h} a^{2} e h^{3} k^{2} m^{2} - 4 \\hat{h} a^{2} e h^{3} k^{2} m r - 2 \\hat{h} a^{2} e h^{3} k^{2} r^{2} + 4 \\hat{h} a^{2} h^{3} k^{2} m^{3} + 8 \\hat{h} a^{2} h^{3} k^{2} m^{2} r + 4 \\hat{h} a^{2} h^{3} k^{2} m r^{2} - 4 \\hat{h} a h^{4} k m^{2} r - 4 \\hat{h} a h^{4} k m r^{2} + a^{2} h^{4} k^{2} m^{2} + 2 a^{2} h^{4} k^{2} m r + a^{2} h^{4} k^{2} r^{2}} - \\frac{1}{2 a k \\left(\\hat{h} m + h\\right)^{2}} \\left(2 \\hat{h}^{3} m^{3} r - \\hat{h}^{2} a e k m^{2} + \\hat{h}^{2} a k m^{3} - \\hat{h}^{2} a k m^{2} r - \\hat{h}^{2} e h m r + 4 \\hat{h}^{2} h m^{2} r - \\hat{h} a e h k m + \\hat{h} a e h k r + 2 \\hat{h} a h k m^{2} - 2 \\hat{h} a h k m r + 2 \\hat{h} h^{2} m r + a h^{2} k m - a h^{2} k r\\right), \\quad 1, \\quad \\left [ \\left[\\begin{matrix}- \\frac{2 \\hat{h} a d k m \\left(\\hat{h}^{2} m^{2} + 2 \\hat{h} h m + h^{2}\\right)}{\\left(\\hat{h} m + h\\right) \\left(2 \\hat{h}^{3} m^{3} r + \\hat{h}^{2} a e k m^{2} - \\hat{h}^{2} a k m^{3} - \\hat{h}^{2} a k m^{2} r - \\hat{h}^{2} e h m r + 4 \\hat{h}^{2} h m^{2} r + \\hat{h} a e h k m + \\hat{h} a e h k r - 2 \\hat{h} a h k m^{2} - 2 \\hat{h} a h k m r + 2 \\hat{h} h^{2} m r - a h^{2} k m - a h^{2} k r + \\sqrt{4 \\hat{h}^{6} m^{6} r^{2} + 4 \\hat{h}^{5} a e k m^{5} r - 4 \\hat{h}^{5} a k m^{6} r - 4 \\hat{h}^{5} a k m^{5} r^{2} - 4 \\hat{h}^{5} e h m^{4} r^{2} + 16 \\hat{h}^{5} h m^{5} r^{2} + \\hat{h}^{4} a^{2} e^{2} k^{2} m^{4} - 2 \\hat{h}^{4} a^{2} e k^{2} m^{5} - 2 \\hat{h}^{4} a^{2} e k^{2} m^{4} r + \\hat{h}^{4} a^{2} k^{2} m^{6} + 2 \\hat{h}^{4} a^{2} k^{2} m^{5} r + \\hat{h}^{4} a^{2} k^{2} m^{4} r^{2} + 2 \\hat{h}^{4} a e^{2} h k m^{3} r + 14 \\hat{h}^{4} a e h k m^{4} r + 6 \\hat{h}^{4} a e h k m^{3} r^{2} - 16 \\hat{h}^{4} a h k m^{5} r - 16 \\hat{h}^{4} a h k m^{4} r^{2} + \\hat{h}^{4} e^{2} h^{2} m^{2} r^{2} - 8 \\hat{h}^{4} e h^{2} m^{3} r^{2} + 24 \\hat{h}^{4} h^{2} m^{4} r^{2} + 2 \\hat{h}^{3} a^{2} e^{2} h k^{2} m^{3} - 2 \\hat{h}^{3} a^{2} e^{2} h k^{2} m^{2} r - 6 \\hat{h}^{3} a^{2} e h k^{2} m^{4} - 8 \\hat{h}^{3} a^{2} e h k^{2} m^{3} r - 2 \\hat{h}^{3} a^{2} e h k^{2} m^{2} r^{2} + 4 \\hat{h}^{3} a^{2} h k^{2} m^{5} + 8 \\hat{h}^{3} a^{2} h k^{2} m^{4} r + 4 \\hat{h}^{3} a^{2} h k^{2} m^{3} r^{2} + 2 \\hat{h}^{3} a e^{2} h^{2} k m^{2} r - 2 \\hat{h}^{3} a e^{2} h^{2} k m r^{2} + 16 \\hat{h}^{3} a e h^{2} k m^{3} r + 12 \\hat{h}^{3} a e h^{2} k m^{2} r^{2} - 24 \\hat{h}^{3} a h^{2} k m^{4} r - 24 \\hat{h}^{3} a h^{2} k m^{3} r^{2} - 4 \\hat{h}^{3} e h^{3} m^{2} r^{2} + 16 \\hat{h}^{3} h^{3} m^{3} r^{2} + \\hat{h}^{2} a^{2} e^{2} h^{2} k^{2} m^{2} - 2 \\hat{h}^{2} a^{2} e^{2} h^{2} k^{2} m r + \\hat{h}^{2} a^{2} e^{2} h^{2} k^{2} r^{2} - 6 \\hat{h}^{2} a^{2} e h^{2} k^{2} m^{3} - 10 \\hat{h}^{2} a^{2} e h^{2} k^{2} m^{2} r - 4 \\hat{h}^{2} a^{2} e h^{2} k^{2} m r^{2} + 6 \\hat{h}^{2} a^{2} h^{2} k^{2} m^{4} + 12 \\hat{h}^{2} a^{2} h^{2} k^{2} m^{3} r + 6 \\hat{h}^{2} a^{2} h^{2} k^{2} m^{2} r^{2} + 6 \\hat{h}^{2} a e h^{3} k m^{2} r + 6 \\hat{h}^{2} a e h^{3} k m r^{2} - 16 \\hat{h}^{2} a h^{3} k m^{3} r - 16 \\hat{h}^{2} a h^{3} k m^{2} r^{2} + 4 \\hat{h}^{2} h^{4} m^{2} r^{2} - 2 \\hat{h} a^{2} e h^{3} k^{2} m^{2} - 4 \\hat{h} a^{2} e h^{3} k^{2} m r - 2 \\hat{h} a^{2} e h^{3} k^{2} r^{2} + 4 \\hat{h} a^{2} h^{3} k^{2} m^{3} + 8 \\hat{h} a^{2} h^{3} k^{2} m^{2} r + 4 \\hat{h} a^{2} h^{3} k^{2} m r^{2} - 4 \\hat{h} a h^{4} k m^{2} r - 4 \\hat{h} a h^{4} k m r^{2} + a^{2} h^{4} k^{2} m^{2} + 2 a^{2} h^{4} k^{2} m r + a^{2} h^{4} k^{2} r^{2}}\\right)}\\\\1\\end{matrix}\\right]\\right ]\\right )\\right ]$$"
      ],
      "text/plain": [
       "⎡⎛     _______________________________________________________________________\n",
       "⎢⎜    ╱          6  6  2            5        5              5      6          \n",
       "⎢⎜  ╲╱  4⋅\\hat{h} ⋅m ⋅r  + 4⋅\\hat{h} ⋅a⋅e⋅k⋅m ⋅r - 4⋅\\hat{h} ⋅a⋅k⋅m ⋅r - 4⋅\\ha\n",
       "⎢⎜- ──────────────────────────────────────────────────────────────────────────\n",
       "⎢⎜                                                                            \n",
       "⎢⎜                                                                            \n",
       "⎢⎜                                                                            \n",
       "⎢⎜                                                                            \n",
       "⎣⎝                                                                            \n",
       "\n",
       "______________________________________________________________________________\n",
       "    5      5  2            5      4  2             5    5  2          4  2  2 \n",
       "t{h} ⋅a⋅k⋅m ⋅r  - 4⋅\\hat{h} ⋅e⋅h⋅m ⋅r  + 16⋅\\hat{h} ⋅h⋅m ⋅r  + \\hat{h} ⋅a ⋅e ⋅\n",
       "──────────────────────────────────────────────────────────────────────────────\n",
       "                                                                              \n",
       "                                                                              \n",
       "                                                                              \n",
       "                                                                              \n",
       "                                                                              \n",
       "\n",
       "______________________________________________________________________________\n",
       " 2  4            4  2    2  5            4  2    2  4            4  2  2  6   \n",
       "k ⋅m  - 2⋅\\hat{h} ⋅a ⋅e⋅k ⋅m  - 2⋅\\hat{h} ⋅a ⋅e⋅k ⋅m ⋅r + \\hat{h} ⋅a ⋅k ⋅m  + \n",
       "──────────────────────────────────────────────────────────────────────────────\n",
       "                                                                              \n",
       "                                                                              \n",
       "                                                                              \n",
       "                                                                              \n",
       "                                                                              \n",
       "\n",
       "______________________________________________________________________________\n",
       "         4  2  2  5            4  2  2  4  2            4    2      3         \n",
       "2⋅\\hat{h} ⋅a ⋅k ⋅m ⋅r + \\hat{h} ⋅a ⋅k ⋅m ⋅r  + 2⋅\\hat{h} ⋅a⋅e ⋅h⋅k⋅m ⋅r + 14⋅\\\n",
       "──────────────────────────────────────────────────────────────────────────────\n",
       "                                                                              \n",
       "                                                                              \n",
       "                                                                              \n",
       "                                                                              \n",
       "                                                                              \n",
       "\n",
       "______________________________________________________________________________\n",
       "      4          4              4          3  2             4        5        \n",
       "hat{h} ⋅a⋅e⋅h⋅k⋅m ⋅r + 6⋅\\hat{h} ⋅a⋅e⋅h⋅k⋅m ⋅r  - 16⋅\\hat{h} ⋅a⋅h⋅k⋅m ⋅r - 16⋅\n",
       "──────────────────────────────────────────────────────────────────────────────\n",
       "                                                                              \n",
       "                                                                              \n",
       "                                                                              \n",
       "                                                                              \n",
       "                                                                              \n",
       "\n",
       "______________________________________________________________________________\n",
       "       4        4  2          4  2  2  2  2            4    2  3  2           \n",
       "\\hat{h} ⋅a⋅h⋅k⋅m ⋅r  + \\hat{h} ⋅e ⋅h ⋅m ⋅r  - 8⋅\\hat{h} ⋅e⋅h ⋅m ⋅r  + 24⋅\\hat{\n",
       "──────────────────────────────────────────────────────────────────────────────\n",
       "                                                                              \n",
       "                                                                              \n",
       "                                                                              \n",
       "                                                                              \n",
       "                                                                              \n",
       "\n",
       "______________________________________________________________________________\n",
       "  4  2  4  2            3  2  2    2  3            3  2  2    2  2            \n",
       "h} ⋅h ⋅m ⋅r  + 2⋅\\hat{h} ⋅a ⋅e ⋅h⋅k ⋅m  - 2⋅\\hat{h} ⋅a ⋅e ⋅h⋅k ⋅m ⋅r - 6⋅\\hat{\n",
       "──────────────────────────────────────────────────────────────────────────────\n",
       "                                                                              \n",
       "                                                                              \n",
       "                                                                              \n",
       "                                                                              \n",
       "                                                                              \n",
       "\n",
       "______________________________________________________________________________\n",
       "  3  2      2  4            3  2      2  3              3  2      2  2  2     \n",
       "h} ⋅a ⋅e⋅h⋅k ⋅m  - 8⋅\\hat{h} ⋅a ⋅e⋅h⋅k ⋅m ⋅r - 2⋅\\hat{h} ⋅a ⋅e⋅h⋅k ⋅m ⋅r  + 4⋅\n",
       "──────────────────────────────────────────────────────────────────────────────\n",
       "                                                                              \n",
       "                                                                              \n",
       "                                                                              \n",
       "                                                                              \n",
       "                                                                              \n",
       "\n",
       "______________________________________________________________________________\n",
       "       3  2    2  5            3  2    2  4              3  2    2  3  2      \n",
       "\\hat{h} ⋅a ⋅h⋅k ⋅m  + 8⋅\\hat{h} ⋅a ⋅h⋅k ⋅m ⋅r + 4⋅\\hat{h} ⋅a ⋅h⋅k ⋅m ⋅r  + 2⋅\\\n",
       "──────────────────────────────────────────────────────────────────────────────\n",
       "                                                                              \n",
       "                                                                              \n",
       "                                                                              \n",
       "                                                                              \n",
       "                                                                              \n",
       "\n",
       "______________________________________________________________________________\n",
       "      3    2  2    2              3    2  2      2             3      2    3  \n",
       "hat{h} ⋅a⋅e ⋅h ⋅k⋅m ⋅r - 2⋅\\hat{h} ⋅a⋅e ⋅h ⋅k⋅m⋅r  + 16⋅\\hat{h} ⋅a⋅e⋅h ⋅k⋅m ⋅r\n",
       "──────────────────────────────────────────────────────────────────────────────\n",
       "                                                      ⎛       2  2            \n",
       "                                                2⋅a⋅k⋅⎝\\hat{h} ⋅m  + 2⋅\\hat{h}\n",
       "                                                                              \n",
       "                                                                              \n",
       "                                                                              \n",
       "\n",
       "______________________________________________________________________________\n",
       "             3      2    2  2             3    2    4               3    2    \n",
       " + 12⋅\\hat{h} ⋅a⋅e⋅h ⋅k⋅m ⋅r  - 24⋅\\hat{h} ⋅a⋅h ⋅k⋅m ⋅r - 24⋅\\hat{h} ⋅a⋅h ⋅k⋅m\n",
       "──────────────────────────────────────────────────────────────────────────────\n",
       "        2⎞                                                                    \n",
       "⋅h⋅m + h ⎠                                                                    \n",
       "                                                                              \n",
       "                                                                              \n",
       "                                                                              \n",
       "\n",
       "______________________________________________________________________________\n",
       "3  2            3    3  2  2             3  3  3  2          2  2  2  2  2  2 \n",
       " ⋅r  - 4⋅\\hat{h} ⋅e⋅h ⋅m ⋅r  + 16⋅\\hat{h} ⋅h ⋅m ⋅r  + \\hat{h} ⋅a ⋅e ⋅h ⋅k ⋅m  \n",
       "──────────────────────────────────────────────────────────────────────────────\n",
       "                                                                              \n",
       "                                                                              \n",
       "                                                                              \n",
       "                                                                              \n",
       "                                                                              \n",
       "\n",
       "______________________________________________________________________________\n",
       "           2  2  2  2  2              2  2  2  2  2  2            2  2    2  2\n",
       "- 2⋅\\hat{h} ⋅a ⋅e ⋅h ⋅k ⋅m⋅r + \\hat{h} ⋅a ⋅e ⋅h ⋅k ⋅r  - 6⋅\\hat{h} ⋅a ⋅e⋅h ⋅k \n",
       "──────────────────────────────────────────────────────────────────────────────\n",
       "                                                                              \n",
       "                                                                              \n",
       "                                                                              \n",
       "                                                                              \n",
       "                                                                              \n",
       "\n",
       "______________________________________________________________________________\n",
       "  3             2  2    2  2  2              2  2    2  2    2            2  2\n",
       "⋅m  - 10⋅\\hat{h} ⋅a ⋅e⋅h ⋅k ⋅m ⋅r - 4⋅\\hat{h} ⋅a ⋅e⋅h ⋅k ⋅m⋅r  + 6⋅\\hat{h} ⋅a \n",
       "──────────────────────────────────────────────────────────────────────────────\n",
       "                                                                              \n",
       "                                                                              \n",
       "                                                                              \n",
       "                                                                              \n",
       "                                                                              \n",
       "\n",
       "______________________________________________________________________________\n",
       "  2  2  4             2  2  2  2  3              2  2  2  2  2  2            2\n",
       "⋅h ⋅k ⋅m  + 12⋅\\hat{h} ⋅a ⋅h ⋅k ⋅m ⋅r + 6⋅\\hat{h} ⋅a ⋅h ⋅k ⋅m ⋅r  + 6⋅\\hat{h} \n",
       "──────────────────────────────────────────────────────────────────────────────\n",
       "                                                                              \n",
       "                                                                              \n",
       "                                                                              \n",
       "                                                                              \n",
       "                                                                              \n",
       "\n",
       "______________________________________________________________________________\n",
       "      3    2              2      3      2             2    3    3             \n",
       "⋅a⋅e⋅h ⋅k⋅m ⋅r + 6⋅\\hat{h} ⋅a⋅e⋅h ⋅k⋅m⋅r  - 16⋅\\hat{h} ⋅a⋅h ⋅k⋅m ⋅r - 16⋅\\hat{\n",
       "──────────────────────────────────────────────────────────────────────────────\n",
       "                                                                              \n",
       "                                                                              \n",
       "                                                                              \n",
       "                                                                              \n",
       "                                                                              \n",
       "\n",
       "______________________________________________________________________________\n",
       "  2    3    2  2            2  4  2  2              2    3  2  2              \n",
       "h} ⋅a⋅h ⋅k⋅m ⋅r  + 4⋅\\hat{h} ⋅h ⋅m ⋅r  - 2⋅\\hat{h}⋅a ⋅e⋅h ⋅k ⋅m  - 4⋅\\hat{h}⋅a\n",
       "──────────────────────────────────────────────────────────────────────────────\n",
       "                                                                              \n",
       "                                                                              \n",
       "                                                                              \n",
       "                                                                              \n",
       "                                                                              \n",
       "\n",
       "______________________________________________________________________________\n",
       "2    3  2                  2    3  2  2              2  3  2  3              2\n",
       " ⋅e⋅h ⋅k ⋅m⋅r - 2⋅\\hat{h}⋅a ⋅e⋅h ⋅k ⋅r  + 4⋅\\hat{h}⋅a ⋅h ⋅k ⋅m  + 8⋅\\hat{h}⋅a \n",
       "──────────────────────────────────────────────────────────────────────────────\n",
       "                                                                              \n",
       "                                                                              \n",
       "                                                                              \n",
       "                                                                              \n",
       "                                                                              \n",
       "\n",
       "______________________________________________________________________________\n",
       "  3  2  2                2  3  2    2                4    2                  4\n",
       "⋅h ⋅k ⋅m ⋅r + 4⋅\\hat{h}⋅a ⋅h ⋅k ⋅m⋅r  - 4⋅\\hat{h}⋅a⋅h ⋅k⋅m ⋅r - 4⋅\\hat{h}⋅a⋅h \n",
       "──────────────────────────────────────────────────────────────────────────────\n",
       "                                                                              \n",
       "                                                                              \n",
       "                                                                              \n",
       "                                                                              \n",
       "                                                                              \n",
       "\n",
       "_____________________________________________________                         \n",
       "      2    2  4  2  2      2  4  2        2  4  2  2             3  3         \n",
       "⋅k⋅m⋅r  + a ⋅h ⋅k ⋅m  + 2⋅a ⋅h ⋅k ⋅m⋅r + a ⋅h ⋅k ⋅r     2⋅\\hat{h} ⋅m ⋅r - \\hat\n",
       "───────────────────────────────────────────────────── - ──────────────────────\n",
       "                                                                              \n",
       "                                                                              \n",
       "                                                                              \n",
       "                                                                              \n",
       "                                                                              \n",
       "\n",
       "                                                                              \n",
       "   2        2          2      3          2      2            2                \n",
       "{h} ⋅a⋅e⋅k⋅m  + \\hat{h} ⋅a⋅k⋅m  - \\hat{h} ⋅a⋅k⋅m ⋅r - \\hat{h} ⋅e⋅h⋅m⋅r + 4⋅\\ha\n",
       "──────────────────────────────────────────────────────────────────────────────\n",
       "                                                                              \n",
       "                                                                              \n",
       "                                                                              \n",
       "                                                                              \n",
       "                                                                              \n",
       "\n",
       "                                                                              \n",
       "    2    2                                                              2     \n",
       "t{h} ⋅h⋅m ⋅r - \\hat{h}⋅a⋅e⋅h⋅k⋅m + \\hat{h}⋅a⋅e⋅h⋅k⋅r + 2⋅\\hat{h}⋅a⋅h⋅k⋅m  - 2⋅\n",
       "──────────────────────────────────────────────────────────────────────────────\n",
       "                            2                                                 \n",
       "       2⋅a⋅k⋅(\\hat{h}⋅m + h)                                                  \n",
       "                                                                              \n",
       "                                                                              \n",
       "                                                                              \n",
       "\n",
       "                                                                              \n",
       "                               2          2          2         ⎡⎡             \n",
       "\\hat{h}⋅a⋅h⋅k⋅m⋅r + 2⋅\\hat{h}⋅h ⋅m⋅r + a⋅h ⋅k⋅m - a⋅h ⋅k⋅r     ⎢⎢             \n",
       "──────────────────────────────────────────────────────────, 1, ⎢⎢─────────────\n",
       "                                                               ⎢⎢             \n",
       "                                                               ⎢⎢             \n",
       "                                                               ⎢⎢(\\hat{h}⋅m + \n",
       "                                                               ⎢⎢             \n",
       "                                                               ⎣⎣             \n",
       "\n",
       "                                                                              \n",
       "                                                                              \n",
       "                                                                              \n",
       "──────────────────────────────────────────────────────────────────────────────\n",
       "   ⎛                                                                          \n",
       "   ⎜           3  3            2        2          2      3          2      2 \n",
       "h)⋅⎝- 2⋅\\hat{h} ⋅m ⋅r - \\hat{h} ⋅a⋅e⋅k⋅m  + \\hat{h} ⋅a⋅k⋅m  + \\hat{h} ⋅a⋅k⋅m ⋅\n",
       "                                                                              \n",
       "                                                                              \n",
       "\n",
       "                                                                              \n",
       "                                                                              \n",
       "                                                                              \n",
       "──────────────────────────────────────────────────────────────────────────────\n",
       "                                                                              \n",
       "           2                    2    2                                        \n",
       "r + \\hat{h} ⋅e⋅h⋅m⋅r - 4⋅\\hat{h} ⋅h⋅m ⋅r - \\hat{h}⋅a⋅e⋅h⋅k⋅m - \\hat{h}⋅a⋅e⋅h⋅k\n",
       "                                                                              \n",
       "                                                                              \n",
       "\n",
       "                                                                              \n",
       "                                                                              \n",
       "                                                                              \n",
       "──────────────────────────────────────────────────────────────────────────────\n",
       "                                                                              \n",
       "                      2                                    2          2       \n",
       "⋅r + 2⋅\\hat{h}⋅a⋅h⋅k⋅m  + 2⋅\\hat{h}⋅a⋅h⋅k⋅m⋅r - 2⋅\\hat{h}⋅h ⋅m⋅r + a⋅h ⋅k⋅m + \n",
       "                                                                              \n",
       "                                                                              \n",
       "\n",
       "                                                                              \n",
       "                                                                              \n",
       "                                                                              \n",
       "──────────────────────────────────────────────────────────────────────────────\n",
       "              ________________________________________________________________\n",
       "   2         ╱          6  6  2            5        5              5      6   \n",
       "a⋅h ⋅k⋅r + ╲╱  4⋅\\hat{h} ⋅m ⋅r  + 4⋅\\hat{h} ⋅a⋅e⋅k⋅m ⋅r - 4⋅\\hat{h} ⋅a⋅k⋅m ⋅r \n",
       "                                                                              \n",
       "                                                                              \n",
       "\n",
       "                                                                              \n",
       "                                                                              \n",
       "                                                                              \n",
       "──────────────────────────────────────────────────────────────────────────────\n",
       "______________________________________________________________________________\n",
       "           5      5  2            5      4  2             5    5  2          4\n",
       "- 4⋅\\hat{h} ⋅a⋅k⋅m ⋅r  - 4⋅\\hat{h} ⋅e⋅h⋅m ⋅r  + 16⋅\\hat{h} ⋅h⋅m ⋅r  + \\hat{h} \n",
       "                                                                              \n",
       "                                                                              \n",
       "\n",
       "                                                                              \n",
       "                                                                              \n",
       "                                                                              \n",
       "──────────────────────────────────────────────────────────────────────────────\n",
       "______________________________________________________________________________\n",
       "  2  2  2  4            4  2    2  5            4  2    2  4            4  2  \n",
       "⋅a ⋅e ⋅k ⋅m  - 2⋅\\hat{h} ⋅a ⋅e⋅k ⋅m  - 2⋅\\hat{h} ⋅a ⋅e⋅k ⋅m ⋅r + \\hat{h} ⋅a ⋅k\n",
       "                                                                              \n",
       "                                                                              \n",
       "\n",
       "                                                                              \n",
       "                                                                              \n",
       "                                                                              \n",
       "──────────────────────────────────────────────────────────────────────────────\n",
       "______________________________________________________________________________\n",
       "2  6            4  2  2  5            4  2  2  4  2            4    2      3  \n",
       " ⋅m  + 2⋅\\hat{h} ⋅a ⋅k ⋅m ⋅r + \\hat{h} ⋅a ⋅k ⋅m ⋅r  + 2⋅\\hat{h} ⋅a⋅e ⋅h⋅k⋅m ⋅r\n",
       "                                                                              \n",
       "                                                                              \n",
       "\n",
       "                                                                              \n",
       "                                                                              \n",
       "                                                                              \n",
       "──────────────────────────────────────────────────────────────────────────────\n",
       "______________________________________________________________________________\n",
       "             4          4              4          3  2             4        5 \n",
       " + 14⋅\\hat{h} ⋅a⋅e⋅h⋅k⋅m ⋅r + 6⋅\\hat{h} ⋅a⋅e⋅h⋅k⋅m ⋅r  - 16⋅\\hat{h} ⋅a⋅h⋅k⋅m ⋅\n",
       "                                                                              \n",
       "                                                                              \n",
       "\n",
       "                                                                              \n",
       "                                                                              \n",
       "                                                                              \n",
       "──────────────────────────────────────────────────────────────────────────────\n",
       "______________________________________________________________________________\n",
       "              4        4  2          4  2  2  2  2            4    2  3  2    \n",
       "r - 16⋅\\hat{h} ⋅a⋅h⋅k⋅m ⋅r  + \\hat{h} ⋅e ⋅h ⋅m ⋅r  - 8⋅\\hat{h} ⋅e⋅h ⋅m ⋅r  + 2\n",
       "                                                                              \n",
       "                                                                              \n",
       "\n",
       "                                                                              \n",
       "                                                                              \n",
       "                                                                              \n",
       "──────────────────────────────────────────────────────────────────────────────\n",
       "______________________________________________________________________________\n",
       "         4  2  4  2            3  2  2    2  3            3  2  2    2  2     \n",
       "4⋅\\hat{h} ⋅h ⋅m ⋅r  + 2⋅\\hat{h} ⋅a ⋅e ⋅h⋅k ⋅m  - 2⋅\\hat{h} ⋅a ⋅e ⋅h⋅k ⋅m ⋅r - \n",
       "                                                                              \n",
       "                                                                              \n",
       "\n",
       "                                                                              \n",
       "                                                                              \n",
       "                                                                            2⋅\n",
       "──────────────────────────────────────────────────────────────────────────────\n",
       "______________________________________________________________________________\n",
       "         3  2      2  4            3  2      2  3              3  2      2  2 \n",
       "6⋅\\hat{h} ⋅a ⋅e⋅h⋅k ⋅m  - 8⋅\\hat{h} ⋅a ⋅e⋅h⋅k ⋅m ⋅r - 2⋅\\hat{h} ⋅a ⋅e⋅h⋅k ⋅m ⋅\n",
       "                                                                              \n",
       "                                                                              \n",
       "\n",
       "                                                                              \n",
       "                ⎛       2  2                    2⎞                            \n",
       "\\hat{h}⋅a⋅d⋅k⋅m⋅⎝\\hat{h} ⋅m  + 2⋅\\hat{h}⋅h⋅m + h ⎠                            \n",
       "──────────────────────────────────────────────────────────────────────────────\n",
       "______________________________________________________________________________\n",
       " 2            3  2    2  5            3  2    2  4              3  2    2  3  \n",
       "r  + 4⋅\\hat{h} ⋅a ⋅h⋅k ⋅m  + 8⋅\\hat{h} ⋅a ⋅h⋅k ⋅m ⋅r + 4⋅\\hat{h} ⋅a ⋅h⋅k ⋅m ⋅r\n",
       "                                                                              \n",
       "                       1                                                      \n",
       "\n",
       "                                                                              \n",
       "                                                                              \n",
       "                                                                              \n",
       "──────────────────────────────────────────────────────────────────────────────\n",
       "______________________________________________________________________________\n",
       "2            3    2  2    2              3    2  2      2             3      2\n",
       "  + 2⋅\\hat{h} ⋅a⋅e ⋅h ⋅k⋅m ⋅r - 2⋅\\hat{h} ⋅a⋅e ⋅h ⋅k⋅m⋅r  + 16⋅\\hat{h} ⋅a⋅e⋅h \n",
       "                                                                              \n",
       "                                                                              \n",
       "\n",
       "                                                                              \n",
       "                                                                              \n",
       "                                                                              \n",
       "──────────────────────────────────────────────────────────────────────────────\n",
       "______________________________________________________________________________\n",
       "    3               3      2    2  2             3    2    4               3  \n",
       "⋅k⋅m ⋅r + 12⋅\\hat{h} ⋅a⋅e⋅h ⋅k⋅m ⋅r  - 24⋅\\hat{h} ⋅a⋅h ⋅k⋅m ⋅r - 24⋅\\hat{h} ⋅a\n",
       "                                                                              \n",
       "                                                                              \n",
       "\n",
       "                                                                              \n",
       "                                                                              \n",
       "                                                                              \n",
       "──────────────────────────────────────────────────────────────────────────────\n",
       "______________________________________________________________________________\n",
       "  2    3  2            3    3  2  2             3  3  3  2          2  2  2  2\n",
       "⋅h ⋅k⋅m ⋅r  - 4⋅\\hat{h} ⋅e⋅h ⋅m ⋅r  + 16⋅\\hat{h} ⋅h ⋅m ⋅r  + \\hat{h} ⋅a ⋅e ⋅h \n",
       "                                                                              \n",
       "                                                                              \n",
       "\n",
       "                                                                              \n",
       "                                                                              \n",
       "                                                                              \n",
       "──────────────────────────────────────────────────────────────────────────────\n",
       "______________________________________________________________________________\n",
       "  2  2            2  2  2  2  2              2  2  2  2  2  2            2  2 \n",
       "⋅k ⋅m  - 2⋅\\hat{h} ⋅a ⋅e ⋅h ⋅k ⋅m⋅r + \\hat{h} ⋅a ⋅e ⋅h ⋅k ⋅r  - 6⋅\\hat{h} ⋅a ⋅\n",
       "                                                                              \n",
       "                                                                              \n",
       "\n",
       "                                                                              \n",
       "                                                                              \n",
       "                                                                              \n",
       "──────────────────────────────────────────────────────────────────────────────\n",
       "______________________________________________________________________________\n",
       "   2  2  3             2  2    2  2  2              2  2    2  2    2         \n",
       "e⋅h ⋅k ⋅m  - 10⋅\\hat{h} ⋅a ⋅e⋅h ⋅k ⋅m ⋅r - 4⋅\\hat{h} ⋅a ⋅e⋅h ⋅k ⋅m⋅r  + 6⋅\\hat\n",
       "                                                                              \n",
       "                                                                              \n",
       "\n",
       "                                                                              \n",
       "                                                                              \n",
       "                                                                              \n",
       "──────────────────────────────────────────────────────────────────────────────\n",
       "______________________________________________________________________________\n",
       "   2  2  2  2  4             2  2  2  2  3              2  2  2  2  2  2      \n",
       "{h} ⋅a ⋅h ⋅k ⋅m  + 12⋅\\hat{h} ⋅a ⋅h ⋅k ⋅m ⋅r + 6⋅\\hat{h} ⋅a ⋅h ⋅k ⋅m ⋅r  + 6⋅\\\n",
       "                                                                              \n",
       "                                                                              \n",
       "\n",
       "                                                                              \n",
       "                                                                              \n",
       "                                                                              \n",
       "──────────────────────────────────────────────────────────────────────────────\n",
       "______________________________________________________________________________\n",
       "      2      3    2              2      3      2             2    3    3      \n",
       "hat{h} ⋅a⋅e⋅h ⋅k⋅m ⋅r + 6⋅\\hat{h} ⋅a⋅e⋅h ⋅k⋅m⋅r  - 16⋅\\hat{h} ⋅a⋅h ⋅k⋅m ⋅r - 1\n",
       "                                                                              \n",
       "                                                                              \n",
       "\n",
       "                                                                              \n",
       "                                                                              \n",
       "                                                                              \n",
       "──────────────────────────────────────────────────────────────────────────────\n",
       "______________________________________________________________________________\n",
       "         2    3    2  2            2  4  2  2              2    3  2  2       \n",
       "6⋅\\hat{h} ⋅a⋅h ⋅k⋅m ⋅r  + 4⋅\\hat{h} ⋅h ⋅m ⋅r  - 2⋅\\hat{h}⋅a ⋅e⋅h ⋅k ⋅m  - 4⋅\\h\n",
       "                                                                              \n",
       "                                                                              \n",
       "\n",
       "                                                                              \n",
       "                                                                              \n",
       "                                                                              \n",
       "──────────────────────────────────────────────────────────────────────────────\n",
       "______________________________________________________________________________\n",
       "       2    3  2                  2    3  2  2              2  3  2  3        \n",
       "at{h}⋅a ⋅e⋅h ⋅k ⋅m⋅r - 2⋅\\hat{h}⋅a ⋅e⋅h ⋅k ⋅r  + 4⋅\\hat{h}⋅a ⋅h ⋅k ⋅m  + 8⋅\\ha\n",
       "                                                                              \n",
       "                                                                              \n",
       "\n",
       "                                                                              \n",
       "                                                                              \n",
       "                                                                              \n",
       "──────────────────────────────────────────────────────────────────────────────\n",
       "______________________________________________________________________________\n",
       "      2  3  2  2                2  3  2    2                4    2            \n",
       "t{h}⋅a ⋅h ⋅k ⋅m ⋅r + 4⋅\\hat{h}⋅a ⋅h ⋅k ⋅m⋅r  - 4⋅\\hat{h}⋅a⋅h ⋅k⋅m ⋅r - 4⋅\\hat{\n",
       "                                                                              \n",
       "                                                                              \n",
       "\n",
       "                                                               ⎞  ⎛   ________\n",
       "                                                             ⎤⎤⎟  ⎜  ╱        \n",
       "                                                             ⎥⎥⎟  ⎜╲╱  4⋅\\hat{\n",
       "─────────────────────────────────────────────────────────────⎥⎥⎟, ⎜───────────\n",
       "____________________________________________________________⎞⎥⎥⎟  ⎜           \n",
       "      4      2    2  4  2  2      2  4  2        2  4  2  2 ⎟⎥⎥⎟  ⎜           \n",
       "h}⋅a⋅h ⋅k⋅m⋅r  + a ⋅h ⋅k ⋅m  + 2⋅a ⋅h ⋅k ⋅m⋅r + a ⋅h ⋅k ⋅r  ⎠⎥⎥⎟  ⎜           \n",
       "                                                             ⎥⎥⎟  ⎜           \n",
       "                                                             ⎦⎦⎠  ⎝           \n",
       "\n",
       "______________________________________________________________________________\n",
       "  6  6  2            5        5              5      6              5      5  2\n",
       "h} ⋅m ⋅r  + 4⋅\\hat{h} ⋅a⋅e⋅k⋅m ⋅r - 4⋅\\hat{h} ⋅a⋅k⋅m ⋅r - 4⋅\\hat{h} ⋅a⋅k⋅m ⋅r \n",
       "──────────────────────────────────────────────────────────────────────────────\n",
       "                                                                              \n",
       "                                                                              \n",
       "                                                                              \n",
       "                                                                              \n",
       "                                                                              \n",
       "\n",
       "______________________________________________________________________________\n",
       "            5      4  2             5    5  2          4  2  2  2  4          \n",
       " - 4⋅\\hat{h} ⋅e⋅h⋅m ⋅r  + 16⋅\\hat{h} ⋅h⋅m ⋅r  + \\hat{h} ⋅a ⋅e ⋅k ⋅m  - 2⋅\\hat{\n",
       "──────────────────────────────────────────────────────────────────────────────\n",
       "                                                                              \n",
       "                                                                              \n",
       "                                                                              \n",
       "                                                                              \n",
       "                                                                              \n",
       "\n",
       "______________________________________________________________________________\n",
       "  4  2    2  5            4  2    2  4            4  2  2  6            4  2  \n",
       "h} ⋅a ⋅e⋅k ⋅m  - 2⋅\\hat{h} ⋅a ⋅e⋅k ⋅m ⋅r + \\hat{h} ⋅a ⋅k ⋅m  + 2⋅\\hat{h} ⋅a ⋅k\n",
       "──────────────────────────────────────────────────────────────────────────────\n",
       "                                                                              \n",
       "                                                                              \n",
       "                                                                              \n",
       "                                                                              \n",
       "                                                                              \n",
       "\n",
       "______________________________________________________________________________\n",
       "2  5            4  2  2  4  2            4    2      3               4        \n",
       " ⋅m ⋅r + \\hat{h} ⋅a ⋅k ⋅m ⋅r  + 2⋅\\hat{h} ⋅a⋅e ⋅h⋅k⋅m ⋅r + 14⋅\\hat{h} ⋅a⋅e⋅h⋅k\n",
       "──────────────────────────────────────────────────────────────────────────────\n",
       "                                                                              \n",
       "                                                                              \n",
       "                                                                              \n",
       "                                                                              \n",
       "                                                                              \n",
       "\n",
       "______________________________________________________________________________\n",
       "  4              4          3  2             4        5               4       \n",
       "⋅m ⋅r + 6⋅\\hat{h} ⋅a⋅e⋅h⋅k⋅m ⋅r  - 16⋅\\hat{h} ⋅a⋅h⋅k⋅m ⋅r - 16⋅\\hat{h} ⋅a⋅h⋅k⋅\n",
       "──────────────────────────────────────────────────────────────────────────────\n",
       "                                                                              \n",
       "                                                                              \n",
       "                                                                              \n",
       "                                                                              \n",
       "                                                                              \n",
       "\n",
       "______________________________________________________________________________\n",
       " 4  2          4  2  2  2  2            4    2  3  2             4  2  4  2   \n",
       "m ⋅r  + \\hat{h} ⋅e ⋅h ⋅m ⋅r  - 8⋅\\hat{h} ⋅e⋅h ⋅m ⋅r  + 24⋅\\hat{h} ⋅h ⋅m ⋅r  + \n",
       "──────────────────────────────────────────────────────────────────────────────\n",
       "                                                                              \n",
       "                                                                              \n",
       "                                                                              \n",
       "                                                                              \n",
       "                                                                              \n",
       "\n",
       "______________________________________________________________________________\n",
       "         3  2  2    2  3            3  2  2    2  2              3  2      2  \n",
       "2⋅\\hat{h} ⋅a ⋅e ⋅h⋅k ⋅m  - 2⋅\\hat{h} ⋅a ⋅e ⋅h⋅k ⋅m ⋅r - 6⋅\\hat{h} ⋅a ⋅e⋅h⋅k ⋅m\n",
       "──────────────────────────────────────────────────────────────────────────────\n",
       "                                                                              \n",
       "                                                                              \n",
       "                                                                              \n",
       "                                                                              \n",
       "                                                                              \n",
       "\n",
       "______________________________________________________________________________\n",
       "4            3  2      2  3              3  2      2  2  2            3  2    \n",
       "  - 8⋅\\hat{h} ⋅a ⋅e⋅h⋅k ⋅m ⋅r - 2⋅\\hat{h} ⋅a ⋅e⋅h⋅k ⋅m ⋅r  + 4⋅\\hat{h} ⋅a ⋅h⋅k\n",
       "──────────────────────────────────────────────────────────────────────────────\n",
       "                                                                              \n",
       "                                                                              \n",
       "                                                                              \n",
       "                                                                              \n",
       "                                                                              \n",
       "\n",
       "______________________________________________________________________________\n",
       "2  5            3  2    2  4              3  2    2  3  2            3    2  2\n",
       " ⋅m  + 8⋅\\hat{h} ⋅a ⋅h⋅k ⋅m ⋅r + 4⋅\\hat{h} ⋅a ⋅h⋅k ⋅m ⋅r  + 2⋅\\hat{h} ⋅a⋅e ⋅h \n",
       "──────────────────────────────────────────────────────────────────────────────\n",
       "                                                                              \n",
       "                                                                              \n",
       "                                                                              \n",
       "                                                                              \n",
       "                                                                              \n",
       "\n",
       "______________________________________________________________________________\n",
       "    2              3    2  2      2             3      2    3               3 \n",
       "⋅k⋅m ⋅r - 2⋅\\hat{h} ⋅a⋅e ⋅h ⋅k⋅m⋅r  + 16⋅\\hat{h} ⋅a⋅e⋅h ⋅k⋅m ⋅r + 12⋅\\hat{h} ⋅\n",
       "──────────────────────────────────────────────────────────────────────────────\n",
       "                                       ⎛       2  2                    2⎞     \n",
       "                                 2⋅a⋅k⋅⎝\\hat{h} ⋅m  + 2⋅\\hat{h}⋅h⋅m + h ⎠     \n",
       "                                                                              \n",
       "                                                                              \n",
       "                                                                              \n",
       "\n",
       "______________________________________________________________________________\n",
       "     2    2  2             3    2    4               3    2    3  2           \n",
       "a⋅e⋅h ⋅k⋅m ⋅r  - 24⋅\\hat{h} ⋅a⋅h ⋅k⋅m ⋅r - 24⋅\\hat{h} ⋅a⋅h ⋅k⋅m ⋅r  - 4⋅\\hat{h\n",
       "──────────────────────────────────────────────────────────────────────────────\n",
       "                                                                              \n",
       "                                                                              \n",
       "                                                                              \n",
       "                                                                              \n",
       "                                                                              \n",
       "\n",
       "______________________________________________________________________________\n",
       " 3    3  2  2             3  3  3  2          2  2  2  2  2  2            2  2\n",
       "} ⋅e⋅h ⋅m ⋅r  + 16⋅\\hat{h} ⋅h ⋅m ⋅r  + \\hat{h} ⋅a ⋅e ⋅h ⋅k ⋅m  - 2⋅\\hat{h} ⋅a \n",
       "──────────────────────────────────────────────────────────────────────────────\n",
       "                                                                              \n",
       "                                                                              \n",
       "                                                                              \n",
       "                                                                              \n",
       "                                                                              \n",
       "\n",
       "______________________________________________________________________________\n",
       "  2  2  2              2  2  2  2  2  2            2  2    2  2  3            \n",
       "⋅e ⋅h ⋅k ⋅m⋅r + \\hat{h} ⋅a ⋅e ⋅h ⋅k ⋅r  - 6⋅\\hat{h} ⋅a ⋅e⋅h ⋅k ⋅m  - 10⋅\\hat{h\n",
       "──────────────────────────────────────────────────────────────────────────────\n",
       "                                                                              \n",
       "                                                                              \n",
       "                                                                              \n",
       "                                                                              \n",
       "                                                                              \n",
       "\n",
       "______________________________________________________________________________\n",
       " 2  2    2  2  2              2  2    2  2    2            2  2  2  2  4      \n",
       "} ⋅a ⋅e⋅h ⋅k ⋅m ⋅r - 4⋅\\hat{h} ⋅a ⋅e⋅h ⋅k ⋅m⋅r  + 6⋅\\hat{h} ⋅a ⋅h ⋅k ⋅m  + 12⋅\n",
       "──────────────────────────────────────────────────────────────────────────────\n",
       "                                                                              \n",
       "                                                                              \n",
       "                                                                              \n",
       "                                                                              \n",
       "                                                                              \n",
       "\n",
       "______________________________________________________________________________\n",
       "       2  2  2  2  3              2  2  2  2  2  2            2      3    2   \n",
       "\\hat{h} ⋅a ⋅h ⋅k ⋅m ⋅r + 6⋅\\hat{h} ⋅a ⋅h ⋅k ⋅m ⋅r  + 6⋅\\hat{h} ⋅a⋅e⋅h ⋅k⋅m ⋅r \n",
       "──────────────────────────────────────────────────────────────────────────────\n",
       "                                                                              \n",
       "                                                                              \n",
       "                                                                              \n",
       "                                                                              \n",
       "                                                                              \n",
       "\n",
       "______________________________________________________________________________\n",
       "           2      3      2             2    3    3               2    3    2  \n",
       "+ 6⋅\\hat{h} ⋅a⋅e⋅h ⋅k⋅m⋅r  - 16⋅\\hat{h} ⋅a⋅h ⋅k⋅m ⋅r - 16⋅\\hat{h} ⋅a⋅h ⋅k⋅m ⋅r\n",
       "──────────────────────────────────────────────────────────────────────────────\n",
       "                                                                              \n",
       "                                                                              \n",
       "                                                                              \n",
       "                                                                              \n",
       "                                                                              \n",
       "\n",
       "______________________________________________________________________________\n",
       "2            2  4  2  2              2    3  2  2              2    3  2      \n",
       "  + 4⋅\\hat{h} ⋅h ⋅m ⋅r  - 2⋅\\hat{h}⋅a ⋅e⋅h ⋅k ⋅m  - 4⋅\\hat{h}⋅a ⋅e⋅h ⋅k ⋅m⋅r -\n",
       "──────────────────────────────────────────────────────────────────────────────\n",
       "                                                                              \n",
       "                                                                              \n",
       "                                                                              \n",
       "                                                                              \n",
       "                                                                              \n",
       "\n",
       "______________________________________________________________________________\n",
       "            2    3  2  2              2  3  2  3              2  3  2  2      \n",
       " 2⋅\\hat{h}⋅a ⋅e⋅h ⋅k ⋅r  + 4⋅\\hat{h}⋅a ⋅h ⋅k ⋅m  + 8⋅\\hat{h}⋅a ⋅h ⋅k ⋅m ⋅r + 4\n",
       "──────────────────────────────────────────────────────────────────────────────\n",
       "                                                                              \n",
       "                                                                              \n",
       "                                                                              \n",
       "                                                                              \n",
       "                                                                              \n",
       "\n",
       "______________________________________________________________________________\n",
       "          2  3  2    2                4    2                  4      2    2  4\n",
       "⋅\\hat{h}⋅a ⋅h ⋅k ⋅m⋅r  - 4⋅\\hat{h}⋅a⋅h ⋅k⋅m ⋅r - 4⋅\\hat{h}⋅a⋅h ⋅k⋅m⋅r  + a ⋅h \n",
       "──────────────────────────────────────────────────────────────────────────────\n",
       "                                                                              \n",
       "                                                                              \n",
       "                                                                              \n",
       "                                                                              \n",
       "                                                                              \n",
       "\n",
       "______________________________________                                        \n",
       "  2  2      2  4  2        2  4  2  2             3  3            2        2  \n",
       "⋅k ⋅m  + 2⋅a ⋅h ⋅k ⋅m⋅r + a ⋅h ⋅k ⋅r     2⋅\\hat{h} ⋅m ⋅r - \\hat{h} ⋅a⋅e⋅k⋅m  +\n",
       "────────────────────────────────────── - ─────────────────────────────────────\n",
       "                                                                              \n",
       "                                                                              \n",
       "                                                                              \n",
       "                                                                              \n",
       "                                                                              \n",
       "\n",
       "                                                                              \n",
       "        2      3          2      2            2                    2    2     \n",
       " \\hat{h} ⋅a⋅k⋅m  - \\hat{h} ⋅a⋅k⋅m ⋅r - \\hat{h} ⋅e⋅h⋅m⋅r + 4⋅\\hat{h} ⋅h⋅m ⋅r - \n",
       "──────────────────────────────────────────────────────────────────────────────\n",
       "                                                                              \n",
       "                                                                      2⋅a⋅k⋅(\\\n",
       "                                                                              \n",
       "                                                                              \n",
       "                                                                              \n",
       "\n",
       "                                                                              \n",
       "                                                         2                    \n",
       "\\hat{h}⋅a⋅e⋅h⋅k⋅m + \\hat{h}⋅a⋅e⋅h⋅k⋅r + 2⋅\\hat{h}⋅a⋅h⋅k⋅m  - 2⋅\\hat{h}⋅a⋅h⋅k⋅m\n",
       "──────────────────────────────────────────────────────────────────────────────\n",
       "             2                                                                \n",
       "hat{h}⋅m + h)                                                                 \n",
       "                                                                              \n",
       "                                                                              \n",
       "                                                                              \n",
       "\n",
       "                                                                              \n",
       "                2          2          2         ⎡⎡                            \n",
       "⋅r + 2⋅\\hat{h}⋅h ⋅m⋅r + a⋅h ⋅k⋅m - a⋅h ⋅k⋅r     ⎢⎢                            \n",
       "───────────────────────────────────────────, 1, ⎢⎢────────────────────────────\n",
       "                                                ⎢⎢                ⎛           \n",
       "                                                ⎢⎢                ⎜         3 \n",
       "                                                ⎢⎢(\\hat{h}⋅m + h)⋅⎝2⋅\\hat{h} ⋅\n",
       "                                                ⎢⎢                            \n",
       "                                                ⎣⎣                            \n",
       "\n",
       "                                                                              \n",
       "                                                                              \n",
       "                                                                              \n",
       "──────────────────────────────────────────────────────────────────────────────\n",
       "                                                                              \n",
       " 3            2        2          2      3          2      2            2     \n",
       "m ⋅r + \\hat{h} ⋅a⋅e⋅k⋅m  - \\hat{h} ⋅a⋅k⋅m  - \\hat{h} ⋅a⋅k⋅m ⋅r - \\hat{h} ⋅e⋅h⋅\n",
       "                                                                              \n",
       "                                                                              \n",
       "\n",
       "                                                                              \n",
       "                                                                              \n",
       "                                                                              \n",
       "──────────────────────────────────────────────────────────────────────────────\n",
       "                                                                              \n",
       "               2    2                                                         \n",
       "m⋅r + 4⋅\\hat{h} ⋅h⋅m ⋅r + \\hat{h}⋅a⋅e⋅h⋅k⋅m + \\hat{h}⋅a⋅e⋅h⋅k⋅r - 2⋅\\hat{h}⋅a⋅\n",
       "                                                                              \n",
       "                                                                              \n",
       "\n",
       "                                                                              \n",
       "                                                                              \n",
       "                                                                              \n",
       "──────────────────────────────────────────────────────────────────────────────\n",
       "                                                                           ___\n",
       "     2                                    2          2          2         ╱   \n",
       "h⋅k⋅m  - 2⋅\\hat{h}⋅a⋅h⋅k⋅m⋅r + 2⋅\\hat{h}⋅h ⋅m⋅r - a⋅h ⋅k⋅m - a⋅h ⋅k⋅r + ╲╱  4⋅\n",
       "                                                                              \n",
       "                                                                              \n",
       "\n",
       "                                                                              \n",
       "                                                                              \n",
       "                                                                              \n",
       "──────────────────────────────────────────────────────────────────────────────\n",
       "______________________________________________________________________________\n",
       "       6  6  2            5        5              5      6              5     \n",
       "\\hat{h} ⋅m ⋅r  + 4⋅\\hat{h} ⋅a⋅e⋅k⋅m ⋅r - 4⋅\\hat{h} ⋅a⋅k⋅m ⋅r - 4⋅\\hat{h} ⋅a⋅k⋅\n",
       "                                                                              \n",
       "                                                                              \n",
       "\n",
       "                                                                              \n",
       "                                                                              \n",
       "                                                                              \n",
       "──────────────────────────────────────────────────────────────────────────────\n",
       "______________________________________________________________________________\n",
       " 5  2            5      4  2             5    5  2          4  2  2  2  4     \n",
       "m ⋅r  - 4⋅\\hat{h} ⋅e⋅h⋅m ⋅r  + 16⋅\\hat{h} ⋅h⋅m ⋅r  + \\hat{h} ⋅a ⋅e ⋅k ⋅m  - 2⋅\n",
       "                                                                              \n",
       "                                                                              \n",
       "\n",
       "                                                                              \n",
       "                                                                              \n",
       "                                                                              \n",
       "──────────────────────────────────────────────────────────────────────────────\n",
       "______________________________________________________________________________\n",
       "       4  2    2  5            4  2    2  4            4  2  2  6            4\n",
       "\\hat{h} ⋅a ⋅e⋅k ⋅m  - 2⋅\\hat{h} ⋅a ⋅e⋅k ⋅m ⋅r + \\hat{h} ⋅a ⋅k ⋅m  + 2⋅\\hat{h} \n",
       "                                                                              \n",
       "                                                                              \n",
       "\n",
       "                                                                              \n",
       "                                                                              \n",
       "                                                                              \n",
       "──────────────────────────────────────────────────────────────────────────────\n",
       "______________________________________________________________________________\n",
       "  2  2  5            4  2  2  4  2            4    2      3               4   \n",
       "⋅a ⋅k ⋅m ⋅r + \\hat{h} ⋅a ⋅k ⋅m ⋅r  + 2⋅\\hat{h} ⋅a⋅e ⋅h⋅k⋅m ⋅r + 14⋅\\hat{h} ⋅a⋅\n",
       "                                                                              \n",
       "                                                                              \n",
       "\n",
       "                                                                              \n",
       "                                                                              \n",
       "                                                                              \n",
       "──────────────────────────────────────────────────────────────────────────────\n",
       "______________________________________________________________________________\n",
       "       4              4          3  2             4        5               4  \n",
       "e⋅h⋅k⋅m ⋅r + 6⋅\\hat{h} ⋅a⋅e⋅h⋅k⋅m ⋅r  - 16⋅\\hat{h} ⋅a⋅h⋅k⋅m ⋅r - 16⋅\\hat{h} ⋅a\n",
       "                                                                              \n",
       "                                                                              \n",
       "\n",
       "                                                                              \n",
       "                                                                              \n",
       "                                                                              \n",
       "──────────────────────────────────────────────────────────────────────────────\n",
       "______________________________________________________________________________\n",
       "      4  2          4  2  2  2  2            4    2  3  2             4  2  4 \n",
       "⋅h⋅k⋅m ⋅r  + \\hat{h} ⋅e ⋅h ⋅m ⋅r  - 8⋅\\hat{h} ⋅e⋅h ⋅m ⋅r  + 24⋅\\hat{h} ⋅h ⋅m ⋅\n",
       "                                                                              \n",
       "                                                                              \n",
       "\n",
       "                                                                              \n",
       "                                                                              \n",
       "                                                                              \n",
       "──────────────────────────────────────────────────────────────────────────────\n",
       "______________________________________________________________________________\n",
       " 2            3  2  2    2  3            3  2  2    2  2              3  2    \n",
       "r  + 2⋅\\hat{h} ⋅a ⋅e ⋅h⋅k ⋅m  - 2⋅\\hat{h} ⋅a ⋅e ⋅h⋅k ⋅m ⋅r - 6⋅\\hat{h} ⋅a ⋅e⋅h\n",
       "                                                                              \n",
       "                                                                              \n",
       "\n",
       "                                                                              \n",
       "                                                                              \n",
       "                                                           -2⋅\\hat{h}⋅a⋅d⋅k⋅m⋅\n",
       "──────────────────────────────────────────────────────────────────────────────\n",
       "______________________________________________________________________________\n",
       "  2  4            3  2      2  3              3  2      2  2  2            3  \n",
       "⋅k ⋅m  - 8⋅\\hat{h} ⋅a ⋅e⋅h⋅k ⋅m ⋅r - 2⋅\\hat{h} ⋅a ⋅e⋅h⋅k ⋅m ⋅r  + 4⋅\\hat{h} ⋅a\n",
       "                                                                              \n",
       "                                                                              \n",
       "\n",
       "                                                                              \n",
       "⎛       2  2                    2⎞                                            \n",
       "⎝\\hat{h} ⋅m  + 2⋅\\hat{h}⋅h⋅m + h ⎠                                            \n",
       "──────────────────────────────────────────────────────────────────────────────\n",
       "______________________________________________________________________________\n",
       "2    2  5            3  2    2  4              3  2    2  3  2            3   \n",
       " ⋅h⋅k ⋅m  + 8⋅\\hat{h} ⋅a ⋅h⋅k ⋅m ⋅r + 4⋅\\hat{h} ⋅a ⋅h⋅k ⋅m ⋅r  + 2⋅\\hat{h} ⋅a⋅\n",
       "                                                                              \n",
       "       1                                                                      \n",
       "\n",
       "                                                                              \n",
       "                                                                              \n",
       "                                                                              \n",
       "──────────────────────────────────────────────────────────────────────────────\n",
       "______________________________________________________________________________\n",
       " 2  2    2              3    2  2      2             3      2    3            \n",
       "e ⋅h ⋅k⋅m ⋅r - 2⋅\\hat{h} ⋅a⋅e ⋅h ⋅k⋅m⋅r  + 16⋅\\hat{h} ⋅a⋅e⋅h ⋅k⋅m ⋅r + 12⋅\\hat\n",
       "                                                                              \n",
       "                                                                              \n",
       "\n",
       "                                                                              \n",
       "                                                                              \n",
       "                                                                              \n",
       "──────────────────────────────────────────────────────────────────────────────\n",
       "______________________________________________________________________________\n",
       "   3      2    2  2             3    2    4               3    2    3  2      \n",
       "{h} ⋅a⋅e⋅h ⋅k⋅m ⋅r  - 24⋅\\hat{h} ⋅a⋅h ⋅k⋅m ⋅r - 24⋅\\hat{h} ⋅a⋅h ⋅k⋅m ⋅r  - 4⋅\\\n",
       "                                                                              \n",
       "                                                                              \n",
       "\n",
       "                                                                              \n",
       "                                                                              \n",
       "                                                                              \n",
       "──────────────────────────────────────────────────────────────────────────────\n",
       "______________________________________________________________________________\n",
       "      3    3  2  2             3  3  3  2          2  2  2  2  2  2           \n",
       "hat{h} ⋅e⋅h ⋅m ⋅r  + 16⋅\\hat{h} ⋅h ⋅m ⋅r  + \\hat{h} ⋅a ⋅e ⋅h ⋅k ⋅m  - 2⋅\\hat{h\n",
       "                                                                              \n",
       "                                                                              \n",
       "\n",
       "                                                                              \n",
       "                                                                              \n",
       "                                                                              \n",
       "──────────────────────────────────────────────────────────────────────────────\n",
       "______________________________________________________________________________\n",
       " 2  2  2  2  2              2  2  2  2  2  2            2  2    2  2  3       \n",
       "} ⋅a ⋅e ⋅h ⋅k ⋅m⋅r + \\hat{h} ⋅a ⋅e ⋅h ⋅k ⋅r  - 6⋅\\hat{h} ⋅a ⋅e⋅h ⋅k ⋅m  - 10⋅\\\n",
       "                                                                              \n",
       "                                                                              \n",
       "\n",
       "                                                                              \n",
       "                                                                              \n",
       "                                                                              \n",
       "──────────────────────────────────────────────────────────────────────────────\n",
       "______________________________________________________________________________\n",
       "      2  2    2  2  2              2  2    2  2    2            2  2  2  2  4 \n",
       "hat{h} ⋅a ⋅e⋅h ⋅k ⋅m ⋅r - 4⋅\\hat{h} ⋅a ⋅e⋅h ⋅k ⋅m⋅r  + 6⋅\\hat{h} ⋅a ⋅h ⋅k ⋅m  \n",
       "                                                                              \n",
       "                                                                              \n",
       "\n",
       "                                                                              \n",
       "                                                                              \n",
       "                                                                              \n",
       "──────────────────────────────────────────────────────────────────────────────\n",
       "______________________________________________________________________________\n",
       "            2  2  2  2  3              2  2  2  2  2  2            2      3   \n",
       "+ 12⋅\\hat{h} ⋅a ⋅h ⋅k ⋅m ⋅r + 6⋅\\hat{h} ⋅a ⋅h ⋅k ⋅m ⋅r  + 6⋅\\hat{h} ⋅a⋅e⋅h ⋅k⋅\n",
       "                                                                              \n",
       "                                                                              \n",
       "\n",
       "                                                                              \n",
       "                                                                              \n",
       "                                                                              \n",
       "──────────────────────────────────────────────────────────────────────────────\n",
       "______________________________________________________________________________\n",
       " 2              2      3      2             2    3    3               2    3  \n",
       "m ⋅r + 6⋅\\hat{h} ⋅a⋅e⋅h ⋅k⋅m⋅r  - 16⋅\\hat{h} ⋅a⋅h ⋅k⋅m ⋅r - 16⋅\\hat{h} ⋅a⋅h ⋅k\n",
       "                                                                              \n",
       "                                                                              \n",
       "\n",
       "                                                                              \n",
       "                                                                              \n",
       "                                                                              \n",
       "──────────────────────────────────────────────────────────────────────────────\n",
       "______________________________________________________________________________\n",
       "  2  2            2  4  2  2              2    3  2  2              2    3  2 \n",
       "⋅m ⋅r  + 4⋅\\hat{h} ⋅h ⋅m ⋅r  - 2⋅\\hat{h}⋅a ⋅e⋅h ⋅k ⋅m  - 4⋅\\hat{h}⋅a ⋅e⋅h ⋅k ⋅\n",
       "                                                                              \n",
       "                                                                              \n",
       "\n",
       "                                                                              \n",
       "                                                                              \n",
       "                                                                              \n",
       "──────────────────────────────────────────────────────────────────────────────\n",
       "______________________________________________________________________________\n",
       "                 2    3  2  2              2  3  2  3              2  3  2  2 \n",
       "m⋅r - 2⋅\\hat{h}⋅a ⋅e⋅h ⋅k ⋅r  + 4⋅\\hat{h}⋅a ⋅h ⋅k ⋅m  + 8⋅\\hat{h}⋅a ⋅h ⋅k ⋅m ⋅\n",
       "                                                                              \n",
       "                                                                              \n",
       "\n",
       "                                                                              \n",
       "                                                                              \n",
       "                                                                              \n",
       "──────────────────────────────────────────────────────────────────────────────\n",
       "______________________________________________________________________________\n",
       "               2  3  2    2                4    2                  4      2   \n",
       "r + 4⋅\\hat{h}⋅a ⋅h ⋅k ⋅m⋅r  - 4⋅\\hat{h}⋅a⋅h ⋅k⋅m ⋅r - 4⋅\\hat{h}⋅a⋅h ⋅k⋅m⋅r  + \n",
       "                                                                              \n",
       "                                                                              \n",
       "\n",
       "                                              ⎞⎤\n",
       "                                            ⎤⎤⎟⎥\n",
       "                                            ⎥⎥⎟⎥\n",
       "────────────────────────────────────────────⎥⎥⎟⎥\n",
       "___________________________________________⎞⎥⎥⎟⎥\n",
       " 2  4  2  2      2  4  2        2  4  2  2 ⎟⎥⎥⎟⎥\n",
       "a ⋅h ⋅k ⋅m  + 2⋅a ⋅h ⋅k ⋅m⋅r + a ⋅h ⋅k ⋅r  ⎠⎥⎥⎟⎥\n",
       "                                            ⎥⎥⎟⎥\n",
       "                                            ⎦⎦⎠⎦"
      ]
     },
     "execution_count": 36,
     "metadata": {},
     "output_type": "execute_result"
    }
   ],
   "source": [
    "jacob.subs(x, cX1).subs(y, cY1).eigenvects()"
   ]
  },
  {
   "cell_type": "code",
   "execution_count": null,
   "metadata": {
    "collapsed": true
   },
   "outputs": [],
   "source": []
  }
 ],
 "metadata": {
  "kernelspec": {
   "display_name": "Python 3",
   "language": "python",
   "name": "python3"
  },
  "language_info": {
   "codemirror_mode": {
    "name": "ipython",
    "version": 3
   },
   "file_extension": ".py",
   "mimetype": "text/x-python",
   "name": "python",
   "nbconvert_exporter": "python",
   "pygments_lexer": "ipython3",
   "version": "3.4.3"
  }
 },
 "nbformat": 4,
 "nbformat_minor": 0
}
